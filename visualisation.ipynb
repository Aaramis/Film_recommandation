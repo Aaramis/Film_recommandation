{
 "cells": [
  {
   "attachments": {},
   "cell_type": "markdown",
   "metadata": {},
   "source": [
    "# Data exploration and cleaning"
   ]
  },
  {
   "cell_type": "code",
   "execution_count": null,
   "metadata": {},
   "outputs": [],
   "source": [
    "# Libraries import\n",
    "import pandas as pd\n",
    "import numpy as np\n",
    "import seaborn as sns\n",
    "import matplotlib.pyplot as plt\n",
    "from wordcloud import WordCloud\n",
    "from collections import Counter"
   ]
  },
  {
   "cell_type": "code",
   "execution_count": null,
   "metadata": {},
   "outputs": [],
   "source": [
    "# Dataset import\n",
    "\n",
    "credits = pd.read_csv('./archive/credits.csv', delimiter=',',index_col=\"id\")\n",
    "keywords = pd.read_csv('./archive/keywords.csv', delimiter=',',index_col=\"id\")\n",
    "movies = pd.read_csv('./archive/movies_metadata.csv', delimiter=',').\\\n",
    "                     drop(['belongs_to_collection', 'homepage', 'imdb_id', 'poster_path', 'status', 'title', 'video'], axis=1).\\\n",
    "                     drop([19730, 29503, 35587]) "
   ]
  },
  {
   "cell_type": "code",
   "execution_count": null,
   "metadata": {},
   "outputs": [],
   "source": [
    "movies.head()"
   ]
  },
  {
   "cell_type": "code",
   "execution_count": null,
   "metadata": {},
   "outputs": [],
   "source": [
    "credits.head()"
   ]
  },
  {
   "attachments": {},
   "cell_type": "markdown",
   "metadata": {},
   "source": [
    "Présence de format Json"
   ]
  },
  {
   "cell_type": "code",
   "execution_count": null,
   "metadata": {},
   "outputs": [],
   "source": [
    "# Converssion Json format en nominal format\n",
    "def get_dictionary(s):\n",
    "    try:\n",
    "        d = eval(s)\n",
    "    except:\n",
    "        d = {}\n",
    "    return d"
   ]
  },
  {
   "cell_type": "code",
   "execution_count": null,
   "metadata": {},
   "outputs": [],
   "source": [
    "keywords.keywords = keywords.keywords.map(lambda x: [d['name'] for d in get_dictionary(x)]).map(lambda x: ','.join(map(str, x)))\n",
    "movies.genres = movies.genres.map(lambda x: [d['name'] for d in get_dictionary(x)]).map(lambda x: ','.join(map(str, x)))\n",
    "movies.production_companies = movies.production_companies.map(lambda x: [d['name'] for d in get_dictionary(x)]).map(lambda x: ','.join(map(str, x)))\n",
    "movies.spoken_languages = movies.spoken_languages.map(lambda x: [d['name'] for d in get_dictionary(x)]).map(lambda x: ','.join(map(str, x)))\n",
    "movies.production_countries = movies.production_countries.map(lambda x: [d['name'] for d in get_dictionary(x)]).map(lambda x: ','.join(map(str, x)))\n",
    "\n",
    "# New columns\n",
    "credits['characters'] = credits.cast.map(lambda x: [d['character'] for d in get_dictionary(x)]).map(lambda x: ','.join(map(str, x)))\n",
    "credits['actors'] = credits.cast.map(lambda x: [d['name'] for d in get_dictionary(x)]).map(lambda x: ','.join(map(str, x)))\n",
    "credits.crew = credits.crew.map(lambda x: [d['name'] for d in get_dictionary(x)]).map(lambda x: ','.join(map(str, x)))\n",
    "credits.pop('cast')\n"
   ]
  },
  {
   "cell_type": "code",
   "execution_count": null,
   "metadata": {},
   "outputs": [],
   "source": [
    "movies['id'] = movies['id'].astype('int64') # incorrect datatype for merge \n",
    "df = movies.merge(keywords, on='id').merge(credits, on='id')"
   ]
  },
  {
   "cell_type": "code",
   "execution_count": null,
   "metadata": {},
   "outputs": [],
   "source": [
    "df.head()"
   ]
  },
  {
   "cell_type": "code",
   "execution_count": null,
   "metadata": {},
   "outputs": [],
   "source": [
    "df.describe()"
   ]
  },
  {
   "cell_type": "code",
   "execution_count": null,
   "metadata": {},
   "outputs": [],
   "source": [
    "df.isnull().sum()"
   ]
  },
  {
   "attachments": {},
   "cell_type": "markdown",
   "metadata": {},
   "source": [
    "Il y a la présence de quelques valeurs nulles dans notre dataframe notamment dans tagline, runtime et overview. Il va falloir faire un choix quand au traitement de ces données."
   ]
  },
  {
   "cell_type": "code",
   "execution_count": null,
   "metadata": {},
   "outputs": [],
   "source": [
    "df.info()"
   ]
  },
  {
   "attachments": {},
   "cell_type": "markdown",
   "metadata": {},
   "source": [
    "Certaines colonnes ne sont pas bien typées : release_date, budget, popularity"
   ]
  },
  {
   "cell_type": "code",
   "execution_count": null,
   "metadata": {},
   "outputs": [],
   "source": [
    "df['popularity'] = df['popularity'].astype('float64')\n",
    "df['budget'] = df['budget'].astype('float64')\n",
    "df['release_date'] = pd.to_datetime(df['release_date'])"
   ]
  },
  {
   "attachments": {},
   "cell_type": "markdown",
   "metadata": {},
   "source": [
    "## Visualisation\n",
    "\n",
    "### Colonne 1 : Adulte movies"
   ]
  },
  {
   "cell_type": "code",
   "execution_count": null,
   "metadata": {},
   "outputs": [],
   "source": [
    "plt.figure(figsize=(8,4))\n",
    "\n",
    "plt.scatter(x=[0.5, 1.5], y=[1,1], s=[6000,15000], color=['red', 'green'])\n",
    "plt.xlim(0,2)\n",
    "plt.ylim(0.9,1.2)\n",
    "\n",
    "plt.title('Distribution of Adult and Non Adult Movies', fontsize=18, weight=600)\n",
    "plt.text(0.5, 1, '{}\\nMovies'.format(str(len(df[df['adult']=='True']))), va='center', ha='center', fontsize=18, weight=600, color='white')\n",
    "plt.text(1.5, 1, '{}\\nMovies'.format(str(len(df[df['adult']=='False']))), va='center', ha='center', fontsize=18, weight=600, color='white')\n",
    "plt.text(0.5, 1.11, 'Adult', va='center', ha='center', fontsize=17, weight=500)\n",
    "plt.text(1.5, 1.11, 'Non Adult', va='center', ha='center', fontsize=17, weight=500)\n",
    "\n",
    "plt.axis('off')\n",
    "\n"
   ]
  },
  {
   "attachments": {},
   "cell_type": "markdown",
   "metadata": {},
   "source": [
    "La catgéorie \"films pour adultes\" n'est pas une catégorie très pertinante pour entrainer un modèle. On pourrait voir à la retirer"
   ]
  },
  {
   "attachments": {},
   "cell_type": "markdown",
   "metadata": {},
   "source": [
    "### Colonne 2 : Budget"
   ]
  },
  {
   "cell_type": "code",
   "execution_count": null,
   "metadata": {},
   "outputs": [],
   "source": [
    "df_plot = df[(df['budget'] != 0)]\n",
    "\n",
    "fig, axes = plt.subplots(nrows=1, ncols=4, figsize=(20, 4))\n",
    "\n",
    "plt.suptitle('The Influence of Budget and Revenue\\non Popularity of Movies', fontsize=18, weight=600, color='#333d29')\n",
    "for i, col in enumerate(['popularity', 'revenue', 'runtime','vote_average']):\n",
    "    sns.regplot(data=df_plot, x=col, y='budget',\n",
    "                scatter_kws={\"color\": \"#06837f\", \"alpha\": 0.6}, line_kws={\"color\": \"#fdc100\"}, ax=axes[i])\n",
    "\n",
    "plt.tight_layout()"
   ]
  },
  {
   "attachments": {},
   "cell_type": "markdown",
   "metadata": {},
   "source": [
    "On pourrait continuer mais ce sera plus rapide avec une heatmap"
   ]
  },
  {
   "attachments": {},
   "cell_type": "markdown",
   "metadata": {},
   "source": [
    "### Colonnes numériques"
   ]
  },
  {
   "cell_type": "code",
   "execution_count": null,
   "metadata": {},
   "outputs": [],
   "source": [
    "df_corr = df\n",
    "\n",
    "df_corr.pop('id')\n",
    "plt.figure(figsize=(12,10))\n",
    "plt.title('Correlation of Movie Features\\n', fontsize=18, weight=600)\n",
    "sns.heatmap(df_corr.corr(), annot=True) \n",
    "plt.show()"
   ]
  },
  {
   "attachments": {},
   "cell_type": "markdown",
   "metadata": {},
   "source": [
    "### Colonne : overview"
   ]
  },
  {
   "cell_type": "code",
   "execution_count": null,
   "metadata": {},
   "outputs": [],
   "source": [
    "overview = df['overview'][df['original_language'] == 'en']\n",
    "overview = overview.dropna()\n",
    "\n",
    "plt.figure(figsize=(10,10))\n",
    "plt.title('The Most Common Word in Movie Overviews\\n', fontsize=30, weight=600, color='#333d29')\n",
    "wc = WordCloud(max_words=500, min_font_size=10, height=800,width=1600,background_color=\"white\").generate(' '.join(overview))\n",
    "plt.imshow(wc)"
   ]
  },
  {
   "cell_type": "code",
   "execution_count": null,
   "metadata": {},
   "outputs": [],
   "source": [
    "title = df['original_title'][df['original_language'] == 'en']\n",
    "title = title.dropna()\n",
    "\n",
    "plt.figure(figsize=(10,10))\n",
    "plt.title('The Most Common Word in titles\\n', fontsize=30, weight=600, color='#333d29')\n",
    "wc = WordCloud(max_words=500, min_font_size=10, height=800,width=1600,background_color=\"white\").generate(' '.join(title))\n",
    "plt.imshow(wc)"
   ]
  },
  {
   "cell_type": "code",
   "execution_count": null,
   "metadata": {},
   "outputs": [],
   "source": [
    "title = df['tagline'][df['original_language'] == 'en']\n",
    "title = title.dropna()\n",
    "\n",
    "plt.figure(figsize=(10,10))\n",
    "plt.title('The Most Common Word in tagline\\n', fontsize=30, weight=600, color='#333d29')\n",
    "wc = WordCloud(max_words=500, min_font_size=10, height=800,width=1600,background_color=\"white\").generate(' '.join(title))\n",
    "plt.imshow(wc)"
   ]
  },
  {
   "cell_type": "code",
   "execution_count": null,
   "metadata": {},
   "outputs": [],
   "source": [
    "genres_list = []\n",
    "for i in df['genres']:\n",
    "    genres_list.extend(i.split(','))\n",
    "\n",
    "fig, axes = plt.subplots(nrows=1, ncols=2, figsize=(14,6))\n",
    "\n",
    "df_plot = pd.DataFrame(Counter(genres_list).most_common(5), columns=['genre', 'total'])\n",
    "ax = sns.barplot(data=df_plot, x='genre', y='total', ax=axes[0])\n",
    "ax.set_title('Top 5 Genres in Movies', fontsize=18, weight=600)\n",
    "sns.despine()\n",
    "\n",
    "df_plot_full = pd.DataFrame([Counter(genres_list)]).transpose().sort_values(by=0, ascending=False)\n",
    "df_plot.loc[len(df_plot)] = {'genre': 'Others', 'total':df_plot_full[6:].sum()[0]}\n",
    "plt.title('Percentage Ratio of Movie Genres', fontsize=18, weight=600)\n",
    "wedges = axes[1].pie(x=df_plot['total'], labels=df_plot['genre'], autopct='%.2f%%', explode=[0,0,0,0,0,0.1])\n",
    "\n"
   ]
  },
  {
   "attachments": {},
   "cell_type": "markdown",
   "metadata": {},
   "source": [
    "## Gestion valeurs manquantes"
   ]
  },
  {
   "cell_type": "code",
   "execution_count": null,
   "metadata": {},
   "outputs": [],
   "source": [
    "df['original_language'] = df['original_language'].fillna('')\n",
    "df['tagline'] = df['tagline'].fillna('')\n",
    "\n",
    "# Valeurs numériques : Plusieurs choix (statistiquement il faudrait prendre le plus proche voisin mais en informatique c'est un peu lourd)\n",
    "df['runtime'] = df['runtime'].fillna(0)   # On remplace par 0\n",
    "df['runtime'] = df['runtime'].fillna(df['runtime'].mean()) # On remplace par la moyenne\n",
    "df['runtime'] = df['runtime'].fillna(df['runtime'].median()) # On remplace par la median\n",
    "# Pour les plus proche voisin voir KNeighborsRegressor\n",
    "\n",
    "\n",
    "df.dropna(inplace=True)"
   ]
  }
 ],
 "metadata": {
  "kernelspec": {
   "display_name": "base",
   "language": "python",
   "name": "python3"
  },
  "language_info": {
   "codemirror_mode": {
    "name": "ipython",
    "version": 3
   },
   "file_extension": ".py",
   "mimetype": "text/x-python",
   "name": "python",
   "nbconvert_exporter": "python",
   "pygments_lexer": "ipython3",
   "version": "3.9.12 (main, Apr  5 2022, 06:56:58) \n[GCC 7.5.0]"
  },
  "orig_nbformat": 4,
  "vscode": {
   "interpreter": {
    "hash": "bc5a6fcd42aefd11aead72b01bc4e6842c205ebb69c94514e1be95f4dbf05863"
   }
  }
 },
 "nbformat": 4,
 "nbformat_minor": 2
}
