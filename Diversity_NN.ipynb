{
 "cells": [
  {
   "attachments": {},
   "cell_type": "markdown",
   "metadata": {},
   "source": [
    "# Neural Network & Diversity\n",
    "\n",
    "## Prepocessing\n",
    "\n",
    "Ce travail fait suite à la recherche de modèle avec Random Forest et XGBoost."
   ]
  },
  {
   "cell_type": "code",
   "execution_count": 592,
   "metadata": {},
   "outputs": [],
   "source": [
    "# Libraries import\n",
    "import pandas as pd\n",
    "import numpy as np\n",
    "import torch\n",
    "from torch import nn, cuda, optim\n",
    "from torch.nn import functional as F\n",
    "from sklearn.model_selection import train_test_split\n",
    "from torch.utils.data import TensorDataset, DataLoader, Dataset, random_split, sampler\n",
    "from sklearn.metrics import mean_absolute_error, mean_squared_error\n"
   ]
  },
  {
   "cell_type": "code",
   "execution_count": 593,
   "metadata": {},
   "outputs": [
    {
     "name": "stdout",
     "output_type": "stream",
     "text": [
      "Training on CPU\n"
     ]
    }
   ],
   "source": [
    "# Checks if GPU is available.\n",
    "isGPUAvailable = cuda.is_available()\n",
    "device = \"cpu\"\n",
    "\n",
    "if isGPUAvailable:\n",
    "    device = \"cuda\"\n",
    "    print(\"Training on GPU\")\n",
    "else:\n",
    "    device = \"cpu\"\n",
    "    print(\"Training on CPU\")"
   ]
  },
  {
   "attachments": {},
   "cell_type": "markdown",
   "metadata": {},
   "source": [
    "## Réseau Convolutionnel"
   ]
  },
  {
   "cell_type": "code",
   "execution_count": 594,
   "metadata": {},
   "outputs": [],
   "source": [
    "# Définir le réseau de neurones convolutif\n",
    "class CNN(nn.Module):\n",
    "    def __init__(self, in_classes, dropout=0.3):\n",
    "        super(CNN, self).__init__()\n",
    "        self.lin1 = nn.Linear(in_classes, int(in_classes))\n",
    "        self.lin2 = nn.Linear(int(in_classes), int(in_classes/2))\n",
    "        self.lin3 = nn.Linear(int(in_classes/2), 1)\n",
    "        self.dropout = nn.Dropout(dropout)\n",
    "        self.classifier = nn.Sequential( self.lin1,self.dropout,nn.ReLU()\n",
    "                                        ,self.lin2,self.dropout, nn.ReLU()\n",
    "                                        ,self.lin3)\n",
    "\n",
    "    def forward(self, x):\n",
    "        # print(x.size())\n",
    "        # x = self.features(x)\n",
    "        x = x.view(x.size(0), -1)\n",
    "        x = self.classifier(x)\n",
    "        return x\n",
    "\n"
   ]
  },
  {
   "cell_type": "code",
   "execution_count": 595,
   "metadata": {},
   "outputs": [],
   "source": [
    "from tqdm import tqdm"
   ]
  },
  {
   "cell_type": "code",
   "execution_count": 596,
   "metadata": {},
   "outputs": [],
   "source": [
    "# Train and validation\n",
    "def train (clf, train_loader, valid_loader, epochs=50, min_valid_loss=np.Inf, lr=1e-3):\n",
    "    best_clf = clf\n",
    "    # optimizer = torch.optim.SGD(clf.parameters(), lr = lr, momentum=0.5, nesterov=True)\n",
    "    optimizer = torch.optim.Adam(clf.parameters(), lr = lr, weight_decay=0.0001)\n",
    "    #optimizer = torch.optim.RMSprop(clf.parameters(), lr = lr, weight_decay=0.0001, momentum=0.1)\n",
    "    criterion = nn.MSELoss()\n",
    "    scheduler = optim.lr_scheduler.ReduceLROnPlateau(optimizer, mode='min', factor=0.1, verbose=True,\n",
    "                                                     patience=20, min_lr=0.00001)\n",
    "    for epoch in tqdm(range(epochs)):\n",
    "        train_loss = 0.0\n",
    "        validation_loss = 0.0\n",
    "\n",
    "        # train\n",
    "        clf.train()\n",
    "        for inputs, labels in train_loader:\n",
    "            optimizer.zero_grad() # Reset optimizer for every iteration.\n",
    "            inputs, labels = inputs.to(device), labels.to(device) # Move tensors to GPU\n",
    "            output = clf(inputs)# Forward pass\n",
    "            # loss = criterion(output.squeeze(), labels)\n",
    "            # print(output.squeeze(-1).size(),labels.view(labels.size(0), -1).size())\n",
    "            loss = criterion(output, labels.view(labels.size(0), -1))\n",
    "            loss.backward()  # Backward pass (Backpropagation)  # Loss\n",
    "            optimizer.step() # Update weights\n",
    "            train_loss += loss.item() # Update the loss.\n",
    "            \n",
    "        # Validation\n",
    "        clf.eval()\n",
    "        for inputs, labels in valid_loader:\n",
    "            # Move tensors to GPU\n",
    "            inputs, labels = inputs.to(device), labels.to(device)\n",
    "            # Forward pass\n",
    "            output = clf(inputs)\n",
    "            # Loss\n",
    "            loss = criterion(output, labels.view(labels.size(0), -1))\n",
    "            # Update the validation loss.\n",
    "            validation_loss += loss.item()\n",
    "            \n",
    "        \n",
    "        # Calculate the losses.\n",
    "        train_loss = train_loss/len(train_loader)\n",
    "        validation_loss = validation_loss/len(valid_loader)\n",
    "        \n",
    "        #Update lr\n",
    "        scheduler.step(validation_loss)\n",
    "        \n",
    "        # Print the losses\n",
    "        # print(\"Epoch {0}\".format(epoch + 1))\n",
    "        # #print('LR:', scheduler.get_lr())\n",
    "        # print(\"Train loss = {0}\".format(train_loss))\n",
    "        # print(\"Validation loss = {0}\".format(validation_loss))\n",
    "        \n",
    "        # Check if validation loss has reduced, and therefore the model predicts better\n",
    "        if validation_loss < min_valid_loss:\n",
    "            min_valid_loss = validation_loss\n",
    "            # print(\"Validation loss has decreased. Saving the model...\")\n",
    "            best_clf = clf\n",
    "        # print(\"------------------------------------\")\n",
    "    return best_clf"
   ]
  },
  {
   "cell_type": "code",
   "execution_count": 597,
   "metadata": {},
   "outputs": [],
   "source": [
    "from sklearn.preprocessing import MinMaxScaler\n",
    "\n",
    "def scaled_data(df):\n",
    "    scaler = MinMaxScaler()\n",
    "    features = [feature for feature in df.columns]\n",
    "    \n",
    "    df[features] = scaler.fit_transform(df[features])\n",
    "    return df"
   ]
  },
  {
   "cell_type": "code",
   "execution_count": 598,
   "metadata": {},
   "outputs": [],
   "source": [
    "from sklearn.model_selection import KFold\n",
    "\n",
    "# Split k-fold validation\n",
    "n_splits = 15\n",
    "random_state = np.random.seed(654658)\n",
    "\n",
    "kf = KFold(n_splits=n_splits, random_state=random_state, shuffle=False)"
   ]
  },
  {
   "cell_type": "code",
   "execution_count": 601,
   "metadata": {},
   "outputs": [
    {
     "name": "stderr",
     "output_type": "stream",
     "text": [
      "/tmp/ipykernel_8358/3373533348.py:7: SettingWithCopyWarning: \n",
      "A value is trying to be set on a copy of a slice from a DataFrame.\n",
      "Try using .loc[row_indexer,col_indexer] = value instead\n",
      "\n",
      "See the caveats in the documentation: https://pandas.pydata.org/pandas-docs/stable/user_guide/indexing.html#returning-a-view-versus-a-copy\n",
      "  df[features] = scaler.fit_transform(df[features])\n"
     ]
    },
    {
     "name": "stdout",
     "output_type": "stream",
     "text": [
      "\n",
      "\n",
      "Fold 1\n"
     ]
    },
    {
     "name": "stderr",
     "output_type": "stream",
     "text": [
      "100%|██████████| 40/40 [00:35<00:00,  1.12it/s]\n"
     ]
    },
    {
     "name": "stdout",
     "output_type": "stream",
     "text": [
      "The log mae score for test is: 14.20834073253545\n",
      "\n",
      "\n",
      "Fold 2\n"
     ]
    },
    {
     "name": "stderr",
     "output_type": "stream",
     "text": [
      " 55%|█████▌    | 22/40 [00:19<00:16,  1.08it/s]"
     ]
    },
    {
     "name": "stdout",
     "output_type": "stream",
     "text": [
      "Epoch 00022: reducing learning rate of group 0 to 1.0000e-04.\n"
     ]
    },
    {
     "name": "stderr",
     "output_type": "stream",
     "text": [
      "100%|██████████| 40/40 [00:37<00:00,  1.07it/s]\n"
     ]
    },
    {
     "name": "stdout",
     "output_type": "stream",
     "text": [
      "The log mae score for test is: 13.206992342387903\n",
      "\n",
      "\n",
      "Fold 3\n"
     ]
    },
    {
     "name": "stderr",
     "output_type": "stream",
     "text": [
      " 55%|█████▌    | 22/40 [00:19<00:16,  1.11it/s]"
     ]
    },
    {
     "name": "stdout",
     "output_type": "stream",
     "text": [
      "Epoch 00022: reducing learning rate of group 0 to 1.0000e-04.\n"
     ]
    },
    {
     "name": "stderr",
     "output_type": "stream",
     "text": [
      "100%|██████████| 40/40 [00:35<00:00,  1.12it/s]\n"
     ]
    },
    {
     "name": "stdout",
     "output_type": "stream",
     "text": [
      "The log mae score for test is: 12.199842809181835\n",
      "\n",
      "\n",
      "Fold 4\n"
     ]
    },
    {
     "name": "stderr",
     "output_type": "stream",
     "text": [
      "100%|██████████| 40/40 [00:35<00:00,  1.12it/s]\n"
     ]
    },
    {
     "name": "stdout",
     "output_type": "stream",
     "text": [
      "The log mae score for test is: 11.105593622517588\n",
      "\n",
      "\n",
      "Fold 5\n"
     ]
    },
    {
     "name": "stderr",
     "output_type": "stream",
     "text": [
      " 60%|██████    | 24/40 [00:21<00:13,  1.14it/s]"
     ]
    },
    {
     "name": "stdout",
     "output_type": "stream",
     "text": [
      "Epoch 00024: reducing learning rate of group 0 to 1.0000e-04.\n"
     ]
    },
    {
     "name": "stderr",
     "output_type": "stream",
     "text": [
      "100%|██████████| 40/40 [00:35<00:00,  1.12it/s]\n"
     ]
    },
    {
     "name": "stdout",
     "output_type": "stream",
     "text": [
      "The log mae score for test is: 10.077676114640274\n",
      "\n",
      "\n",
      "Fold 6\n"
     ]
    },
    {
     "name": "stderr",
     "output_type": "stream",
     "text": [
      " 62%|██████▎   | 25/40 [00:21<00:12,  1.17it/s]"
     ]
    },
    {
     "name": "stdout",
     "output_type": "stream",
     "text": [
      "Epoch 00025: reducing learning rate of group 0 to 1.0000e-04.\n"
     ]
    },
    {
     "name": "stderr",
     "output_type": "stream",
     "text": [
      "100%|██████████| 40/40 [00:35<00:00,  1.13it/s]\n"
     ]
    },
    {
     "name": "stdout",
     "output_type": "stream",
     "text": [
      "The log mae score for test is: 9.082566064984984\n",
      "\n",
      "\n",
      "Fold 7\n"
     ]
    },
    {
     "name": "stderr",
     "output_type": "stream",
     "text": [
      " 57%|█████▊    | 23/40 [00:21<00:15,  1.07it/s]"
     ]
    },
    {
     "name": "stdout",
     "output_type": "stream",
     "text": [
      "Epoch 00023: reducing learning rate of group 0 to 1.0000e-04.\n"
     ]
    },
    {
     "name": "stderr",
     "output_type": "stream",
     "text": [
      "100%|██████████| 40/40 [00:37<00:00,  1.05it/s]\n"
     ]
    },
    {
     "name": "stdout",
     "output_type": "stream",
     "text": [
      "The log mae score for test is: 8.094916968105164\n",
      "\n",
      "\n",
      "Fold 8\n"
     ]
    },
    {
     "name": "stderr",
     "output_type": "stream",
     "text": [
      " 78%|███████▊  | 31/40 [00:29<00:08,  1.10it/s]"
     ]
    },
    {
     "name": "stdout",
     "output_type": "stream",
     "text": [
      "Epoch 00031: reducing learning rate of group 0 to 1.0000e-04.\n"
     ]
    },
    {
     "name": "stderr",
     "output_type": "stream",
     "text": [
      "100%|██████████| 40/40 [00:37<00:00,  1.06it/s]\n"
     ]
    },
    {
     "name": "stdout",
     "output_type": "stream",
     "text": [
      "The log mae score for test is: 7.089657135980655\n",
      "\n",
      "\n",
      "Fold 9\n"
     ]
    },
    {
     "name": "stderr",
     "output_type": "stream",
     "text": [
      " 62%|██████▎   | 25/40 [00:23<00:14,  1.03it/s]"
     ]
    },
    {
     "name": "stdout",
     "output_type": "stream",
     "text": [
      "Epoch 00025: reducing learning rate of group 0 to 1.0000e-04.\n"
     ]
    },
    {
     "name": "stderr",
     "output_type": "stream",
     "text": [
      "100%|██████████| 40/40 [00:39<00:00,  1.02it/s]\n"
     ]
    },
    {
     "name": "stdout",
     "output_type": "stream",
     "text": [
      "The log mae score for test is: 6.112607648166526\n",
      "\n",
      "\n",
      "Fold 10\n"
     ]
    },
    {
     "name": "stderr",
     "output_type": "stream",
     "text": [
      "100%|██████████| 40/40 [00:51<00:00,  1.28s/it]\n"
     ]
    },
    {
     "name": "stdout",
     "output_type": "stream",
     "text": [
      "The log mae score for test is: 5.169170097895113\n",
      "\n",
      "\n",
      "Fold 11\n"
     ]
    },
    {
     "name": "stderr",
     "output_type": "stream",
     "text": [
      " 82%|████████▎ | 33/40 [00:36<00:06,  1.05it/s]"
     ]
    },
    {
     "name": "stdout",
     "output_type": "stream",
     "text": [
      "Epoch 00033: reducing learning rate of group 0 to 1.0000e-04.\n"
     ]
    },
    {
     "name": "stderr",
     "output_type": "stream",
     "text": [
      "100%|██████████| 40/40 [00:43<00:00,  1.09s/it]\n"
     ]
    },
    {
     "name": "stdout",
     "output_type": "stream",
     "text": [
      "The log mae score for test is: 4.297852480389249\n",
      "\n",
      "\n",
      "Fold 12\n"
     ]
    },
    {
     "name": "stderr",
     "output_type": "stream",
     "text": [
      " 75%|███████▌  | 30/40 [00:28<00:09,  1.03it/s]"
     ]
    },
    {
     "name": "stdout",
     "output_type": "stream",
     "text": [
      "Epoch 00030: reducing learning rate of group 0 to 1.0000e-04.\n"
     ]
    },
    {
     "name": "stderr",
     "output_type": "stream",
     "text": [
      "100%|██████████| 40/40 [00:40<00:00,  1.02s/it]\n"
     ]
    },
    {
     "name": "stdout",
     "output_type": "stream",
     "text": [
      "The log mae score for test is: 3.540416622598536\n",
      "\n",
      "\n",
      "Fold 13\n"
     ]
    },
    {
     "name": "stderr",
     "output_type": "stream",
     "text": [
      "100%|██████████| 40/40 [00:39<00:00,  1.03it/s]\n"
     ]
    },
    {
     "name": "stdout",
     "output_type": "stream",
     "text": [
      "The log mae score for test is: 2.8936602614943867\n",
      "\n",
      "\n",
      "Fold 14\n"
     ]
    },
    {
     "name": "stderr",
     "output_type": "stream",
     "text": [
      " 82%|████████▎ | 33/40 [00:32<00:07,  1.01s/it]"
     ]
    },
    {
     "name": "stdout",
     "output_type": "stream",
     "text": [
      "Epoch 00033: reducing learning rate of group 0 to 1.0000e-04.\n"
     ]
    },
    {
     "name": "stderr",
     "output_type": "stream",
     "text": [
      "100%|██████████| 40/40 [00:39<00:00,  1.02it/s]\n"
     ]
    },
    {
     "name": "stdout",
     "output_type": "stream",
     "text": [
      "The log mae score for test is: 2.451588608640068\n",
      "\n",
      "\n",
      "Fold 15\n"
     ]
    },
    {
     "name": "stderr",
     "output_type": "stream",
     "text": [
      "100%|██████████| 40/40 [00:36<00:00,  1.09it/s]"
     ]
    },
    {
     "name": "stdout",
     "output_type": "stream",
     "text": [
      "The log mae score for test is: 2.2833597152989324\n"
     ]
    },
    {
     "name": "stderr",
     "output_type": "stream",
     "text": [
      "\n"
     ]
    }
   ],
   "source": [
    "# K-fold cross validation\n",
    "lr = 0.001\n",
    "epochs = 40\n",
    "batch_size = 60\n",
    "\n",
    "df = pd.read_csv('./data/diversity.csv', delimiter=',')\n",
    "df = df.astype('float32')\n",
    "df['budget'] = np.log(df['budget'] + 1e-5)\n",
    "\n",
    "\n",
    "pourcentage_80 = int(0.8 * len(df))\n",
    "\n",
    "# Train data\n",
    "data_train = df[:pourcentage_80]\n",
    "data_test = df[pourcentage_80:]\n",
    "\n",
    "target = np.log(data_train['revenue'] + 1e-5)\n",
    "data_train.pop('revenue')\n",
    "data_train.pop('adult')\n",
    "\n",
    "\n",
    "# Test data\n",
    "target_test = np.log(data_test['revenue'] + 1e-5)\n",
    "data_test.pop('revenue')\n",
    "data_test.pop('adult')\n",
    "\n",
    "\n",
    "# Convert test data to tensor\n",
    "x_test = np.array(scaled_data(data_test))\n",
    "x_test_tensor = torch.tensor(x_test, dtype=torch.float).to(device)\n",
    "\n",
    "test_preds_nn = np.zeros((len(data_test)))\n",
    "oof_nn = np.zeros(len(data_train))\n",
    "\n",
    "cnn = CNN(data_train.shape[1])\n",
    "\n",
    "for fold_i, (train_index, val_index) in enumerate(kf.split(data_train.values)):\n",
    "    \n",
    "    print(\"\\n\")\n",
    "    print(\"Fold {0}\".format(fold_i + 1))\n",
    "    \n",
    "    training_data = data_train.copy()\n",
    "    \n",
    "    x_train_raw, x_val_raw = training_data.loc[train_index], training_data.loc[val_index]\n",
    "    y_train_raw, y_val_raw = target.loc[train_index].values, target.loc[val_index].values\n",
    "    \n",
    "    x_train_fold = torch.tensor(x_train_raw.to_numpy(), dtype=torch.float)\n",
    "    y_train_fold = torch.tensor(y_train_raw, dtype=torch.float32)\n",
    "    \n",
    "    x_val_fold = torch.tensor(x_val_raw.to_numpy(), dtype=torch.float)\n",
    "    y_val_fold = torch.tensor(y_val_raw, dtype=torch.float32)\n",
    "    \n",
    "    train_dataset = TensorDataset(x_train_fold, y_train_fold)\n",
    "    test_dataset = TensorDataset(x_val_fold, y_val_fold)\n",
    "    \n",
    "    train_loader = torch.utils.data.DataLoader(train_dataset, batch_size=batch_size, shuffle=True)\n",
    "    valid_loader = torch.utils.data.DataLoader(test_dataset, batch_size=batch_size, shuffle=False)\n",
    "    \n",
    "    \n",
    "    model = train(cnn, train_loader, valid_loader, epochs=epochs, lr = lr)\n",
    "    \n",
    "    # Out of fold data to check accuracy at the end\n",
    "    oof_nn[val_index] = model(x_val_fold.to(device)).squeeze().to('cpu').detach().numpy()   \n",
    "    \n",
    "    test_preds_nn += model(x_test_tensor).squeeze().to('cpu').detach().numpy() / kf.n_splits\n",
    "    rmae = mean_absolute_error(target_test, test_preds_nn)\n",
    "    print(\"The log mae score for test is: {}\".format(rmae))"
   ]
  },
  {
   "attachments": {},
   "cell_type": "markdown",
   "metadata": {},
   "source": [
    "Le réseau de neurone ne nous donne pas une meilleure performance que nos algorithmes de random forest ou XGBoost. Il est peu sans doute être largement améliorer encore."
   ]
  }
 ],
 "metadata": {
  "kernelspec": {
   "display_name": "base",
   "language": "python",
   "name": "python3"
  },
  "language_info": {
   "codemirror_mode": {
    "name": "ipython",
    "version": 3
   },
   "file_extension": ".py",
   "mimetype": "text/x-python",
   "name": "python",
   "nbconvert_exporter": "python",
   "pygments_lexer": "ipython3",
   "version": "3.9.12"
  },
  "orig_nbformat": 4,
  "vscode": {
   "interpreter": {
    "hash": "bc5a6fcd42aefd11aead72b01bc4e6842c205ebb69c94514e1be95f4dbf05863"
   }
  }
 },
 "nbformat": 4,
 "nbformat_minor": 2
}
