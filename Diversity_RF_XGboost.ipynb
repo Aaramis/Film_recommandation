{
 "cells": [
  {
   "attachments": {},
   "cell_type": "markdown",
   "metadata": {},
   "source": [
    "# Modelling & Diversity\n",
    "\n",
    "## Prepocessing\n",
    "\n",
    "La performance de cette compétition est mesuré avec le log de MSE sur la prédiction des revenues. Le meilleur score obtenu est de 0.68770. Le top 10 est inférieur à 1.48070 [leaderboard](https://www.kaggle.com/competitions/tmdb-box-office-prediction/leaderboard). \\\n",
    "Cependant, la plupart des algorithmes trouvés pour prédire le revenue utilisent des variables accessibles à postiori comme la popularité ou le vote des utilisateurs. \\\n",
    "Nous avons fait le choix de les éliminés pour être plus proche à une question réelle. \\\n",
    "On s'attend donc à obtenir des résultats plus faible nécessairement. \\\n",
    "Le log est utilisé pour éviter un sur-influence des blockbusters"
   ]
  },
  {
   "cell_type": "code",
   "execution_count": 115,
   "metadata": {},
   "outputs": [],
   "source": [
    "# Libraries import\n",
    "import pandas as pd\n",
    "import numpy as np\n",
    "from sklearn.ensemble import RandomForestRegressor # ML\n",
    "from sklearn.inspection import permutation_importance # computing feature importance\n",
    "from sklearn import preprocessing\n",
    "from sklearn.model_selection import train_test_split\n",
    "from sklearn.metrics import mean_absolute_error, mean_squared_error\n",
    "from xgboost import XGBRegressor"
   ]
  },
  {
   "cell_type": "code",
   "execution_count": 116,
   "metadata": {},
   "outputs": [],
   "source": [
    "df = pd.read_csv('./data/diversity.csv', delimiter=',')"
   ]
  },
  {
   "cell_type": "code",
   "execution_count": 117,
   "metadata": {},
   "outputs": [
    {
     "data": {
      "text/html": [
       "<div>\n",
       "<style scoped>\n",
       "    .dataframe tbody tr th:only-of-type {\n",
       "        vertical-align: middle;\n",
       "    }\n",
       "\n",
       "    .dataframe tbody tr th {\n",
       "        vertical-align: top;\n",
       "    }\n",
       "\n",
       "    .dataframe thead th {\n",
       "        text-align: right;\n",
       "    }\n",
       "</style>\n",
       "<table border=\"1\" class=\"dataframe\">\n",
       "  <thead>\n",
       "    <tr style=\"text-align: right;\">\n",
       "      <th></th>\n",
       "      <th>budget</th>\n",
       "      <th>original_language</th>\n",
       "      <th>revenue</th>\n",
       "      <th>runtime</th>\n",
       "      <th>spoken_languages</th>\n",
       "      <th>nb_language</th>\n",
       "      <th>nb_ch</th>\n",
       "      <th>r_fem_ch</th>\n",
       "      <th>r_hom_ch</th>\n",
       "      <th>order_fem</th>\n",
       "      <th>...</th>\n",
       "      <th>Horror</th>\n",
       "      <th>Music</th>\n",
       "      <th>Mystery</th>\n",
       "      <th>Romance</th>\n",
       "      <th>Science Fiction</th>\n",
       "      <th>TV Movie</th>\n",
       "      <th>Thriller</th>\n",
       "      <th>War</th>\n",
       "      <th>Western</th>\n",
       "      <th>nb_genre</th>\n",
       "    </tr>\n",
       "  </thead>\n",
       "  <tbody>\n",
       "    <tr>\n",
       "      <th>0</th>\n",
       "      <td>30000000.0</td>\n",
       "      <td>1.0</td>\n",
       "      <td>373554033.0</td>\n",
       "      <td>81.0</td>\n",
       "      <td>1.0</td>\n",
       "      <td>1.0</td>\n",
       "      <td>13.0</td>\n",
       "      <td>0.230769</td>\n",
       "      <td>0.692308</td>\n",
       "      <td>6.0</td>\n",
       "      <td>...</td>\n",
       "      <td>0.0</td>\n",
       "      <td>0.0</td>\n",
       "      <td>0.0</td>\n",
       "      <td>0.0</td>\n",
       "      <td>0.0</td>\n",
       "      <td>0.0</td>\n",
       "      <td>0.0</td>\n",
       "      <td>0.0</td>\n",
       "      <td>0.0</td>\n",
       "      <td>3.0</td>\n",
       "    </tr>\n",
       "    <tr>\n",
       "      <th>1</th>\n",
       "      <td>65000000.0</td>\n",
       "      <td>1.0</td>\n",
       "      <td>262797249.0</td>\n",
       "      <td>104.0</td>\n",
       "      <td>1.0</td>\n",
       "      <td>2.0</td>\n",
       "      <td>26.0</td>\n",
       "      <td>0.230769</td>\n",
       "      <td>0.346154</td>\n",
       "      <td>2.0</td>\n",
       "      <td>...</td>\n",
       "      <td>0.0</td>\n",
       "      <td>0.0</td>\n",
       "      <td>0.0</td>\n",
       "      <td>0.0</td>\n",
       "      <td>0.0</td>\n",
       "      <td>0.0</td>\n",
       "      <td>0.0</td>\n",
       "      <td>0.0</td>\n",
       "      <td>0.0</td>\n",
       "      <td>3.0</td>\n",
       "    </tr>\n",
       "    <tr>\n",
       "      <th>2</th>\n",
       "      <td>16500000.0</td>\n",
       "      <td>1.0</td>\n",
       "      <td>24500627.5</td>\n",
       "      <td>101.0</td>\n",
       "      <td>1.0</td>\n",
       "      <td>1.0</td>\n",
       "      <td>7.0</td>\n",
       "      <td>0.428571</td>\n",
       "      <td>0.571429</td>\n",
       "      <td>2.0</td>\n",
       "      <td>...</td>\n",
       "      <td>0.0</td>\n",
       "      <td>0.0</td>\n",
       "      <td>0.0</td>\n",
       "      <td>1.0</td>\n",
       "      <td>0.0</td>\n",
       "      <td>0.0</td>\n",
       "      <td>0.0</td>\n",
       "      <td>0.0</td>\n",
       "      <td>0.0</td>\n",
       "      <td>2.0</td>\n",
       "    </tr>\n",
       "    <tr>\n",
       "      <th>3</th>\n",
       "      <td>16000000.0</td>\n",
       "      <td>1.0</td>\n",
       "      <td>81452156.0</td>\n",
       "      <td>127.0</td>\n",
       "      <td>1.0</td>\n",
       "      <td>1.0</td>\n",
       "      <td>10.0</td>\n",
       "      <td>0.400000</td>\n",
       "      <td>0.600000</td>\n",
       "      <td>0.0</td>\n",
       "      <td>...</td>\n",
       "      <td>0.0</td>\n",
       "      <td>0.0</td>\n",
       "      <td>0.0</td>\n",
       "      <td>1.0</td>\n",
       "      <td>0.0</td>\n",
       "      <td>0.0</td>\n",
       "      <td>0.0</td>\n",
       "      <td>0.0</td>\n",
       "      <td>0.0</td>\n",
       "      <td>3.0</td>\n",
       "    </tr>\n",
       "    <tr>\n",
       "      <th>4</th>\n",
       "      <td>6782500.0</td>\n",
       "      <td>1.0</td>\n",
       "      <td>76578911.0</td>\n",
       "      <td>106.0</td>\n",
       "      <td>1.0</td>\n",
       "      <td>1.0</td>\n",
       "      <td>12.0</td>\n",
       "      <td>0.416667</td>\n",
       "      <td>0.500000</td>\n",
       "      <td>1.0</td>\n",
       "      <td>...</td>\n",
       "      <td>0.0</td>\n",
       "      <td>0.0</td>\n",
       "      <td>0.0</td>\n",
       "      <td>0.0</td>\n",
       "      <td>0.0</td>\n",
       "      <td>0.0</td>\n",
       "      <td>0.0</td>\n",
       "      <td>0.0</td>\n",
       "      <td>0.0</td>\n",
       "      <td>1.0</td>\n",
       "    </tr>\n",
       "  </tbody>\n",
       "</table>\n",
       "<p>5 rows × 47 columns</p>\n",
       "</div>"
      ],
      "text/plain": [
       "       budget  original_language      revenue  runtime  spoken_languages  \\\n",
       "0  30000000.0                1.0  373554033.0     81.0               1.0   \n",
       "1  65000000.0                1.0  262797249.0    104.0               1.0   \n",
       "2  16500000.0                1.0   24500627.5    101.0               1.0   \n",
       "3  16000000.0                1.0   81452156.0    127.0               1.0   \n",
       "4   6782500.0                1.0   76578911.0    106.0               1.0   \n",
       "\n",
       "   nb_language  nb_ch  r_fem_ch  r_hom_ch  order_fem  ...  Horror  Music  \\\n",
       "0          1.0   13.0  0.230769  0.692308        6.0  ...     0.0    0.0   \n",
       "1          2.0   26.0  0.230769  0.346154        2.0  ...     0.0    0.0   \n",
       "2          1.0    7.0  0.428571  0.571429        2.0  ...     0.0    0.0   \n",
       "3          1.0   10.0  0.400000  0.600000        0.0  ...     0.0    0.0   \n",
       "4          1.0   12.0  0.416667  0.500000        1.0  ...     0.0    0.0   \n",
       "\n",
       "   Mystery  Romance  Science Fiction  TV Movie  Thriller  War  Western  \\\n",
       "0      0.0      0.0              0.0       0.0       0.0  0.0      0.0   \n",
       "1      0.0      0.0              0.0       0.0       0.0  0.0      0.0   \n",
       "2      0.0      1.0              0.0       0.0       0.0  0.0      0.0   \n",
       "3      0.0      1.0              0.0       0.0       0.0  0.0      0.0   \n",
       "4      0.0      0.0              0.0       0.0       0.0  0.0      0.0   \n",
       "\n",
       "   nb_genre  \n",
       "0       3.0  \n",
       "1       3.0  \n",
       "2       2.0  \n",
       "3       3.0  \n",
       "4       1.0  \n",
       "\n",
       "[5 rows x 47 columns]"
      ]
     },
     "execution_count": 117,
     "metadata": {},
     "output_type": "execute_result"
    }
   ],
   "source": [
    "df.head()"
   ]
  },
  {
   "cell_type": "code",
   "execution_count": 118,
   "metadata": {},
   "outputs": [
    {
     "data": {
      "text/plain": [
       "count    45451.000000\n",
       "mean        15.636551\n",
       "std          2.823931\n",
       "min          0.000010\n",
       "25%         14.098926\n",
       "50%         15.842450\n",
       "75%         17.453783\n",
       "max         21.748578\n",
       "Name: log_revenue, dtype: float64"
      ]
     },
     "execution_count": 118,
     "metadata": {},
     "output_type": "execute_result"
    }
   ],
   "source": [
    "df['log_revenue'] = np.log(df['revenue'] + 1e-5)\n",
    "df['budget'] = np.log(df['budget'] + 1e-5)\n",
    "df.log_revenue.describe()"
   ]
  },
  {
   "cell_type": "code",
   "execution_count": 119,
   "metadata": {},
   "outputs": [],
   "source": [
    "# df.pop('budget')"
   ]
  },
  {
   "cell_type": "code",
   "execution_count": 120,
   "metadata": {},
   "outputs": [],
   "source": [
    "# Exctraction de la variable d'intérêt\n",
    "# df['Profit'] = df['revenue'] - df['budget']\n",
    "y = df['log_revenue']\n",
    "X = df.drop(['revenue','log_revenue'], axis=1)"
   ]
  },
  {
   "cell_type": "code",
   "execution_count": 121,
   "metadata": {},
   "outputs": [],
   "source": [
    "X_train_full, X_valid_full, y_train, y_valid = train_test_split(X, y, train_size=0.8, test_size=0.2,random_state=0)"
   ]
  },
  {
   "cell_type": "code",
   "execution_count": 122,
   "metadata": {},
   "outputs": [
    {
     "data": {
      "text/html": [
       "<div>\n",
       "<style scoped>\n",
       "    .dataframe tbody tr th:only-of-type {\n",
       "        vertical-align: middle;\n",
       "    }\n",
       "\n",
       "    .dataframe tbody tr th {\n",
       "        vertical-align: top;\n",
       "    }\n",
       "\n",
       "    .dataframe thead th {\n",
       "        text-align: right;\n",
       "    }\n",
       "</style>\n",
       "<table border=\"1\" class=\"dataframe\">\n",
       "  <thead>\n",
       "    <tr style=\"text-align: right;\">\n",
       "      <th></th>\n",
       "      <th>budget</th>\n",
       "      <th>original_language</th>\n",
       "      <th>runtime</th>\n",
       "      <th>spoken_languages</th>\n",
       "      <th>nb_language</th>\n",
       "      <th>nb_ch</th>\n",
       "      <th>r_fem_ch</th>\n",
       "      <th>r_hom_ch</th>\n",
       "      <th>order_fem</th>\n",
       "      <th>nb_crew</th>\n",
       "      <th>...</th>\n",
       "      <th>Horror</th>\n",
       "      <th>Music</th>\n",
       "      <th>Mystery</th>\n",
       "      <th>Romance</th>\n",
       "      <th>Science Fiction</th>\n",
       "      <th>TV Movie</th>\n",
       "      <th>Thriller</th>\n",
       "      <th>War</th>\n",
       "      <th>Western</th>\n",
       "      <th>nb_genre</th>\n",
       "    </tr>\n",
       "  </thead>\n",
       "  <tbody>\n",
       "    <tr>\n",
       "      <th>7660</th>\n",
       "      <td>13.737549</td>\n",
       "      <td>1.0</td>\n",
       "      <td>90.0</td>\n",
       "      <td>1.0</td>\n",
       "      <td>1.0</td>\n",
       "      <td>13.0</td>\n",
       "      <td>0.076923</td>\n",
       "      <td>0.692308</td>\n",
       "      <td>12.0</td>\n",
       "      <td>19.0</td>\n",
       "      <td>...</td>\n",
       "      <td>0.0</td>\n",
       "      <td>0.0</td>\n",
       "      <td>0.0</td>\n",
       "      <td>0.0</td>\n",
       "      <td>1.0</td>\n",
       "      <td>0.0</td>\n",
       "      <td>0.0</td>\n",
       "      <td>0.0</td>\n",
       "      <td>0.0</td>\n",
       "      <td>3.0</td>\n",
       "    </tr>\n",
       "    <tr>\n",
       "      <th>10763</th>\n",
       "      <td>13.458836</td>\n",
       "      <td>1.0</td>\n",
       "      <td>90.0</td>\n",
       "      <td>1.0</td>\n",
       "      <td>1.0</td>\n",
       "      <td>6.0</td>\n",
       "      <td>0.500000</td>\n",
       "      <td>0.500000</td>\n",
       "      <td>0.0</td>\n",
       "      <td>5.0</td>\n",
       "      <td>...</td>\n",
       "      <td>1.0</td>\n",
       "      <td>0.0</td>\n",
       "      <td>1.0</td>\n",
       "      <td>0.0</td>\n",
       "      <td>0.0</td>\n",
       "      <td>0.0</td>\n",
       "      <td>1.0</td>\n",
       "      <td>0.0</td>\n",
       "      <td>0.0</td>\n",
       "      <td>5.0</td>\n",
       "    </tr>\n",
       "    <tr>\n",
       "      <th>38005</th>\n",
       "      <td>11.596807</td>\n",
       "      <td>0.0</td>\n",
       "      <td>55.0</td>\n",
       "      <td>0.0</td>\n",
       "      <td>1.0</td>\n",
       "      <td>1.0</td>\n",
       "      <td>0.000000</td>\n",
       "      <td>0.000000</td>\n",
       "      <td>1.0</td>\n",
       "      <td>2.0</td>\n",
       "      <td>...</td>\n",
       "      <td>0.0</td>\n",
       "      <td>0.0</td>\n",
       "      <td>0.0</td>\n",
       "      <td>0.0</td>\n",
       "      <td>0.0</td>\n",
       "      <td>0.0</td>\n",
       "      <td>0.0</td>\n",
       "      <td>0.0</td>\n",
       "      <td>0.0</td>\n",
       "      <td>1.0</td>\n",
       "    </tr>\n",
       "    <tr>\n",
       "      <th>37470</th>\n",
       "      <td>13.960044</td>\n",
       "      <td>0.0</td>\n",
       "      <td>30.0</td>\n",
       "      <td>0.0</td>\n",
       "      <td>1.0</td>\n",
       "      <td>0.0</td>\n",
       "      <td>0.000000</td>\n",
       "      <td>0.000000</td>\n",
       "      <td>0.0</td>\n",
       "      <td>1.0</td>\n",
       "      <td>...</td>\n",
       "      <td>0.0</td>\n",
       "      <td>0.0</td>\n",
       "      <td>0.0</td>\n",
       "      <td>0.0</td>\n",
       "      <td>0.0</td>\n",
       "      <td>0.0</td>\n",
       "      <td>0.0</td>\n",
       "      <td>0.0</td>\n",
       "      <td>0.0</td>\n",
       "      <td>1.0</td>\n",
       "    </tr>\n",
       "    <tr>\n",
       "      <th>35611</th>\n",
       "      <td>16.418200</td>\n",
       "      <td>0.0</td>\n",
       "      <td>118.0</td>\n",
       "      <td>0.0</td>\n",
       "      <td>1.0</td>\n",
       "      <td>13.0</td>\n",
       "      <td>0.307692</td>\n",
       "      <td>0.230769</td>\n",
       "      <td>2.0</td>\n",
       "      <td>3.0</td>\n",
       "      <td>...</td>\n",
       "      <td>0.0</td>\n",
       "      <td>0.0</td>\n",
       "      <td>0.0</td>\n",
       "      <td>0.0</td>\n",
       "      <td>0.0</td>\n",
       "      <td>0.0</td>\n",
       "      <td>0.0</td>\n",
       "      <td>0.0</td>\n",
       "      <td>0.0</td>\n",
       "      <td>1.0</td>\n",
       "    </tr>\n",
       "  </tbody>\n",
       "</table>\n",
       "<p>5 rows × 46 columns</p>\n",
       "</div>"
      ],
      "text/plain": [
       "          budget  original_language  runtime  spoken_languages  nb_language  \\\n",
       "7660   13.737549                1.0     90.0               1.0          1.0   \n",
       "10763  13.458836                1.0     90.0               1.0          1.0   \n",
       "38005  11.596807                0.0     55.0               0.0          1.0   \n",
       "37470  13.960044                0.0     30.0               0.0          1.0   \n",
       "35611  16.418200                0.0    118.0               0.0          1.0   \n",
       "\n",
       "       nb_ch  r_fem_ch  r_hom_ch  order_fem  nb_crew  ...  Horror  Music  \\\n",
       "7660    13.0  0.076923  0.692308       12.0     19.0  ...     0.0    0.0   \n",
       "10763    6.0  0.500000  0.500000        0.0      5.0  ...     1.0    0.0   \n",
       "38005    1.0  0.000000  0.000000        1.0      2.0  ...     0.0    0.0   \n",
       "37470    0.0  0.000000  0.000000        0.0      1.0  ...     0.0    0.0   \n",
       "35611   13.0  0.307692  0.230769        2.0      3.0  ...     0.0    0.0   \n",
       "\n",
       "       Mystery  Romance  Science Fiction  TV Movie  Thriller  War  Western  \\\n",
       "7660       0.0      0.0              1.0       0.0       0.0  0.0      0.0   \n",
       "10763      1.0      0.0              0.0       0.0       1.0  0.0      0.0   \n",
       "38005      0.0      0.0              0.0       0.0       0.0  0.0      0.0   \n",
       "37470      0.0      0.0              0.0       0.0       0.0  0.0      0.0   \n",
       "35611      0.0      0.0              0.0       0.0       0.0  0.0      0.0   \n",
       "\n",
       "       nb_genre  \n",
       "7660        3.0  \n",
       "10763       5.0  \n",
       "38005       1.0  \n",
       "37470       1.0  \n",
       "35611       1.0  \n",
       "\n",
       "[5 rows x 46 columns]"
      ]
     },
     "execution_count": 122,
     "metadata": {},
     "output_type": "execute_result"
    }
   ],
   "source": [
    "X_train_full.head()"
   ]
  },
  {
   "attachments": {},
   "cell_type": "markdown",
   "metadata": {},
   "source": [
    " ## Random Forest Model"
   ]
  },
  {
   "cell_type": "code",
   "execution_count": 123,
   "metadata": {},
   "outputs": [
    {
     "data": {
      "text/plain": [
       "RandomForestRegressor(random_state=1)"
      ]
     },
     "execution_count": 123,
     "metadata": {},
     "output_type": "execute_result"
    }
   ],
   "source": [
    "# Defining the Random Forest Model \n",
    "rf_model = RandomForestRegressor(random_state=1)\n",
    "\n",
    "# Fitting the model \n",
    "rf_model.fit(X_train_full, y_train)"
   ]
  },
  {
   "cell_type": "code",
   "execution_count": 124,
   "metadata": {},
   "outputs": [],
   "source": [
    "y_pred_rf = rf_model.predict(X_valid_full)"
   ]
  },
  {
   "cell_type": "code",
   "execution_count": 125,
   "metadata": {},
   "outputs": [
    {
     "name": "stdout",
     "output_type": "stream",
     "text": [
      "Mean Squarre Error RF: 1.094190169502341\n",
      "Mean Squarre Error RF: 3.072636453498708\n"
     ]
    }
   ],
   "source": [
    "mae_rf = mean_absolute_error(y_pred_rf, y_valid)\n",
    "msq_rf = mean_squared_error(y_pred_rf, y_valid)\n",
    "print(\"Mean Squarre Error RF:\" , mae_rf)\n",
    "print(\"Mean Squarre Error RF:\" , msq_rf)\n",
    "# Mean Absolute Error RF: 0.4612323137997763\n",
    "# Mean Squarre Error RF: 1.4574452665008446"
   ]
  },
  {
   "attachments": {},
   "cell_type": "markdown",
   "metadata": {},
   "source": [
    "Notre MSE n'est pas si mal comparé aux résultats obtenue dans certains notebook kaggle faisant appel à des variables à postiori."
   ]
  },
  {
   "cell_type": "code",
   "execution_count": 126,
   "metadata": {},
   "outputs": [
    {
     "data": {
      "text/plain": [
       "<AxesSubplot:>"
      ]
     },
     "execution_count": 126,
     "metadata": {},
     "output_type": "execute_result"
    },
    {
     "data": {
      "image/png": "[encoded data removed]",
      "text/plain": [
       "<Figure size 432x288 with 1 Axes>"
      ]
     },
     "metadata": {
      "needs_background": "light"
     },
     "output_type": "display_data"
    }
   ],
   "source": [
    "feat_importances = pd.Series(rf_model.feature_importances_, index=X_train_full.columns)\n",
    "feat_importances.nlargest(11).plot(kind='barh')"
   ]
  },
  {
   "attachments": {},
   "cell_type": "markdown",
   "metadata": {},
   "source": [
    "On peut être relativement satisfait, l'influence du bugdet est certe important mais il n'est pas plus important que sur les autres résultats des algorithmes des notebooks de kaggle.\n",
    "De plus, on peut voir que le ratio femme/homme semble aussi avoir une influence importante dans les revenues."
   ]
  },
  {
   "attachments": {},
   "cell_type": "markdown",
   "metadata": {},
   "source": [
    "## XGBOOST Model"
   ]
  },
  {
   "cell_type": "code",
   "execution_count": 127,
   "metadata": {},
   "outputs": [
    {
     "data": {
      "text/plain": [
       "XGBRegressor(base_score=0.5, booster='gbtree', callbacks=None,\n",
       "             colsample_bylevel=1, colsample_bynode=1, colsample_bytree=1,\n",
       "             early_stopping_rounds=None, enable_categorical=False,\n",
       "             eval_metric=None, feature_types=None, gamma=0, gpu_id=-1,\n",
       "             grow_policy='depthwise', importance_type=None,\n",
       "             interaction_constraints='', learning_rate=0.300000012, max_bin=256,\n",
       "             max_cat_threshold=64, max_cat_to_onehot=4, max_delta_step=0,\n",
       "             max_depth=6, max_leaves=0, min_child_weight=1, missing=nan,\n",
       "             monotone_constraints='()', n_estimators=100, n_jobs=0,\n",
       "             num_parallel_tree=1, predictor='auto', random_state=0, ...)"
      ]
     },
     "execution_count": 127,
     "metadata": {},
     "output_type": "execute_result"
    }
   ],
   "source": [
    "# Define the model\n",
    "xgb_model = XGBRegressor()\n",
    "\n",
    "# Fit the model\n",
    "xgb_model.fit(X_train_full, y_train) "
   ]
  },
  {
   "cell_type": "code",
   "execution_count": 128,
   "metadata": {},
   "outputs": [],
   "source": [
    "y_pred_xgb = xgb_model.predict(X_valid_full)"
   ]
  },
  {
   "cell_type": "code",
   "execution_count": 129,
   "metadata": {},
   "outputs": [
    {
     "name": "stdout",
     "output_type": "stream",
     "text": [
      "Mean Square Error XGBOOST: 3.4181717180732125\n"
     ]
    }
   ],
   "source": [
    "mae_xgb = mean_squared_error(y_pred_xgb, y_valid)\n",
    "\n",
    "print(\"Mean Square Error XGBOOST:\" , mae_xgb)"
   ]
  },
  {
   "cell_type": "code",
   "execution_count": 130,
   "metadata": {},
   "outputs": [
    {
     "data": {
      "text/plain": [
       "<AxesSubplot:>"
      ]
     },
     "execution_count": 130,
     "metadata": {},
     "output_type": "execute_result"
    },
    {
     "data": {
      "image/png": "[encoded data removed]",
      "text/plain": [
       "<Figure size 432x288 with 1 Axes>"
      ]
     },
     "metadata": {
      "needs_background": "light"
     },
     "output_type": "display_data"
    }
   ],
   "source": [
    "feat_importances = pd.Series(xgb_model.feature_importances_, index=X_train_full.columns)\n",
    "feat_importances.nlargest(10).plot(kind='barh')"
   ]
  },
  {
   "attachments": {},
   "cell_type": "markdown",
   "metadata": {},
   "source": [
    "Il est intéressant de noter que cette fois-ci les variables relatives à la diversité ne sont plus aussi importante qu'avec notre model de random forest."
   ]
  },
  {
   "attachments": {},
   "cell_type": "markdown",
   "metadata": {},
   "source": [
    "## Amélioration des modèles avec GridsearchVC\n",
    "\n",
    "### Random Forest"
   ]
  },
  {
   "cell_type": "code",
   "execution_count": 131,
   "metadata": {},
   "outputs": [],
   "source": [
    "from sklearn.model_selection import GridSearchCV"
   ]
  },
  {
   "cell_type": "code",
   "execution_count": 132,
   "metadata": {},
   "outputs": [],
   "source": [
    "param_grid = { 'n_estimators': [400,600],\n",
    "               'min_samples_split': [2,4],\n",
    "               'min_samples_leaf': [2,3]}"
   ]
  },
  {
   "cell_type": "code",
   "execution_count": 133,
   "metadata": {},
   "outputs": [],
   "source": [
    "rf = RandomForestRegressor()"
   ]
  },
  {
   "cell_type": "code",
   "execution_count": 134,
   "metadata": {},
   "outputs": [],
   "source": [
    "scoring = \"neg_mean_squared_error\"\n",
    "grid_search = GridSearchCV(estimator=rf,scoring=scoring, param_grid=param_grid, cv=3, n_jobs=-1)"
   ]
  },
  {
   "cell_type": "code",
   "execution_count": 135,
   "metadata": {},
   "outputs": [
    {
     "data": {
      "text/plain": [
       "GridSearchCV(cv=3, estimator=RandomForestRegressor(), n_jobs=-1,\n",
       "             param_grid={'max_depth': [10, 12], 'min_samples_leaf': [2, 3],\n",
       "                         'min_samples_split': [2, 4],\n",
       "                         'n_estimators': [400, 600]},\n",
       "             scoring='neg_mean_squared_error')"
      ]
     },
     "execution_count": 135,
     "metadata": {},
     "output_type": "execute_result"
    }
   ],
   "source": [
    "grid_search.fit(X_train_full, y_train)"
   ]
  },
  {
   "cell_type": "code",
   "execution_count": 136,
   "metadata": {},
   "outputs": [
    {
     "name": "stdout",
     "output_type": "stream",
     "text": [
      "3.3468793006576747\n",
      "RandomForestRegressor(max_depth=12, min_samples_leaf=3, min_samples_split=4,\n",
      "                      n_estimators=600)\n"
     ]
    }
   ],
   "source": [
    "print(-(grid_search.score(X_valid_full, y_valid)))\n",
    "print(grid_search.best_estimator_)"
   ]
  },
  {
   "attachments": {},
   "cell_type": "markdown",
   "metadata": {},
   "source": [
    "### XGBoost"
   ]
  },
  {
   "cell_type": "code",
   "execution_count": 137,
   "metadata": {},
   "outputs": [],
   "source": [
    "params = {'learning_rate': [0.1, 0.2, 0.3],\n",
    "          'max_depth': [3, 4, 5],\n",
    "          'n_estimators': [100, 150, 200]}"
   ]
  },
  {
   "cell_type": "code",
   "execution_count": 138,
   "metadata": {},
   "outputs": [],
   "source": [
    "model = XGBRegressor()\n",
    "grid_search_XB = GridSearchCV(model, params, cv=3, verbose=1, n_jobs=-1, scoring = \"neg_mean_squared_error\")"
   ]
  },
  {
   "cell_type": "code",
   "execution_count": 139,
   "metadata": {},
   "outputs": [
    {
     "name": "stdout",
     "output_type": "stream",
     "text": [
      "Fitting 3 folds for each of 27 candidates, totalling 81 fits\n"
     ]
    },
    {
     "data": {
      "text/plain": [
       "GridSearchCV(cv=3,\n",
       "             estimator=XGBRegressor(base_score=None, booster=None,\n",
       "                                    callbacks=None, colsample_bylevel=None,\n",
       "                                    colsample_bynode=None,\n",
       "                                    colsample_bytree=None,\n",
       "                                    early_stopping_rounds=None,\n",
       "                                    enable_categorical=False, eval_metric=None,\n",
       "                                    feature_types=None, gamma=None, gpu_id=None,\n",
       "                                    grow_policy=None, importance_type=None,\n",
       "                                    interaction_constraints=None,\n",
       "                                    learning_rate=None, m...\n",
       "                                    max_cat_to_onehot=None, max_delta_step=None,\n",
       "                                    max_depth=None, max_leaves=None,\n",
       "                                    min_child_weight=None, missing=nan,\n",
       "                                    monotone_constraints=None, n_estimators=100,\n",
       "                                    n_jobs=None, num_parallel_tree=None,\n",
       "                                    predictor=None, random_state=None, ...),\n",
       "             n_jobs=-1,\n",
       "             param_grid={'learning_rate': [0.1, 0.2, 0.3],\n",
       "                         'max_depth': [3, 4, 5],\n",
       "                         'n_estimators': [100, 150, 200]},\n",
       "             scoring='neg_mean_squared_error', verbose=1)"
      ]
     },
     "execution_count": 139,
     "metadata": {},
     "output_type": "execute_result"
    }
   ],
   "source": [
    "grid_search_XB.fit(X_train_full, y_train)"
   ]
  },
  {
   "cell_type": "code",
   "execution_count": 140,
   "metadata": {},
   "outputs": [
    {
     "name": "stdout",
     "output_type": "stream",
     "text": [
      "Score MSE : 3.4518725450948646\n",
      "Meilleurs hyperparamètres : {'learning_rate': 0.2, 'max_depth': 5, 'n_estimators': 200}\n"
     ]
    }
   ],
   "source": [
    "print(\"Score MSE :\",- grid_search_XB.score(X_valid_full, y_valid))\n",
    "print(\"Meilleurs hyperparamètres :\", grid_search_XB.best_params_)"
   ]
  },
  {
   "attachments": {},
   "cell_type": "markdown",
   "metadata": {},
   "source": [
    "On a une petite amélioration de XGBoost mais pas sur Random Forest donc on va garder les parametres par défault pour random forest."
   ]
  },
  {
   "attachments": {},
   "cell_type": "markdown",
   "metadata": {},
   "source": [
    "## Amélioration des modèles par cross validation\n",
    "\n",
    "### Random Forest"
   ]
  },
  {
   "cell_type": "code",
   "execution_count": 141,
   "metadata": {},
   "outputs": [],
   "source": [
    "from sklearn.model_selection import cross_val_score"
   ]
  },
  {
   "cell_type": "code",
   "execution_count": 142,
   "metadata": {},
   "outputs": [
    {
     "name": "stdout",
     "output_type": "stream",
     "text": [
      "2.8539031845162435\n"
     ]
    }
   ],
   "source": [
    "rf = RandomForestRegressor()\n",
    "scores = cross_val_score(rf, X_train_full, y_train, scoring=\"neg_mean_squared_error\", cv = 8)\n",
    "print(-scores.mean())"
   ]
  },
  {
   "attachments": {},
   "cell_type": "markdown",
   "metadata": {},
   "source": [
    "### XGBoost"
   ]
  },
  {
   "cell_type": "code",
   "execution_count": 143,
   "metadata": {},
   "outputs": [
    {
     "name": "stdout",
     "output_type": "stream",
     "text": [
      "3.207522061518674\n"
     ]
    }
   ],
   "source": [
    "XG = XGBRegressor(learning_rate= 0.2, max_depth =5, n_estimators = 200)\n",
    "scores_XG = cross_val_score(XG, X_train_full, y_train, scoring=\"neg_mean_squared_error\", cv = 8)\n",
    "print(-scores_XG.mean())"
   ]
  },
  {
   "attachments": {},
   "cell_type": "markdown",
   "metadata": {},
   "source": [
    "En récupérant les résulats de gridsearch et effectuant une cross validation on obtient une amélioration des performances.\n",
    "Cette fois-ci la différence entre Random Forest et XGBoost se creuse en faveur du Random Forest."
   ]
  },
  {
   "attachments": {},
   "cell_type": "markdown",
   "metadata": {},
   "source": [
    "Il y a peu d'amélioration encore une fois mais un score de 1.08 correspond à une position de 4 ème dans le leaderboard de la compétition kaggle tout de même. \\\n",
    "Bien entendu la compétition a eu lieu il y a 4 ans maintenant et les algorithmes ont évolé depuis mais dans le cas présent nous n'avons même pas utilisé des variables poutant évidantes et autorisées pour la prédiction. \\"
   ]
  }
 ],
 "metadata": {
  "kernelspec": {
   "display_name": "base",
   "language": "python",
   "name": "python3"
  },
  "language_info": {
   "codemirror_mode": {
    "name": "ipython",
    "version": 3
   },
   "file_extension": ".py",
   "mimetype": "text/x-python",
   "name": "python",
   "nbconvert_exporter": "python",
   "pygments_lexer": "ipython3",
   "version": "3.9.12"
  },
  "orig_nbformat": 4,
  "vscode": {
   "interpreter": {
    "hash": "bc5a6fcd42aefd11aead72b01bc4e6842c205ebb69c94514e1be95f4dbf05863"
   }
  }
 },
 "nbformat": 4,
 "nbformat_minor": 2
}
