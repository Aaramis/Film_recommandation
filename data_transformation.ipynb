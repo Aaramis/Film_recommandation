{
 "cells": [
  {
   "attachments": {},
   "cell_type": "markdown",
   "metadata": {},
   "source": [
    "# Data transformation"
   ]
  },
  {
   "attachments": {},
   "cell_type": "markdown",
   "metadata": {},
   "source": [
    "Dans cette partie nous allons formaer la table que nous allons utiliser pour nos algorithmes.\n",
    "Dans un premier temps nous choississons comme objectif de prédire les recettes d'un film.\n",
    "On va donc prendre en compte toutes les données relatives au travail en amont de la sortie et donc sortir les donnnées issues des utilisateurs comme par exemple la popularité.\n",
    "Dans un deuxième temps on va essayer de tester une hypothèse sur ces revenues :\n",
    "Est-ce que la diversité (sexe, nationnalité) influence ces revenus ?"
   ]
  },
  {
   "cell_type": "code",
   "execution_count": null,
   "metadata": {},
   "outputs": [],
   "source": [
    "# Libraries import\n",
    "import pandas as pd\n",
    "import numpy as np\n",
    "import seaborn as sns\n",
    "import matplotlib.pyplot as plt\n",
    "from wordcloud import WordCloud\n",
    "from collections import Counter"
   ]
  },
  {
   "cell_type": "code",
   "execution_count": null,
   "metadata": {},
   "outputs": [],
   "source": [
    "# Dataset import\n",
    "\n",
    "credits = pd.read_csv('./archive/credits.csv', delimiter=',',index_col=\"id\")\n",
    "# keywords = pd.read_csv('./archive/keywords.csv', delimiter=',',index_col=\"id\") # Pas très informatif pour notre question\n",
    "movies = pd.read_csv('./archive/movies_metadata.csv', delimiter=',').\\\n",
    "                     drop(['belongs_to_collection', 'homepage', 'imdb_id', 'poster_path', 'status', 'title', 'video'], axis=1).\\\n",
    "                     drop([19730, 29503, 35587]) "
   ]
  },
  {
   "cell_type": "code",
   "execution_count": null,
   "metadata": {},
   "outputs": [],
   "source": [
    "movies['id'] = movies['id'].astype('int64') # incorrect datatype for merge \n",
    "df = movies.merge(credits, on='id')"
   ]
  },
  {
   "cell_type": "code",
   "execution_count": null,
   "metadata": {},
   "outputs": [],
   "source": [
    "# Converssion Json format en nominal format\n",
    "def get_dictionary(s):\n",
    "    try:\n",
    "        d = eval(s)\n",
    "    except:\n",
    "        d = {}\n",
    "    return d"
   ]
  },
  {
   "attachments": {},
   "cell_type": "markdown",
   "metadata": {},
   "source": [
    "Pour obtenir cette notion de diversité, on peut ce baser sur le genre des personnes et leur ordre d'importance.\n",
    "Le genre est associé au personnage et nom à l'acteur. (2 = homme, 1 = femme)\n",
    "Pour l'équipe de tournage, on a accès au genre mais connaitre la position dans l'organigramme et donc son influence est plus compliqué."
   ]
  },
  {
   "cell_type": "code",
   "execution_count": null,
   "metadata": {},
   "outputs": [],
   "source": [
    "# df.keywords = df.keywords.map(lambda x: [d['name'] for d in get_dictionary(x)]).map(lambda x: ','.join(map(str, x)))\n",
    "df.genres = df.genres.map(lambda x: [d['name'] for d in get_dictionary(x)]).map(lambda x: ','.join(map(str, x)))\n",
    "# df.production_companies = df.production_companies.map(lambda x: [d['name'] for d in get_dictionary(x)]).map(lambda x: ','.join(map(str, x))) # trop de valeur manquantes\n",
    "df.spoken_languages = df.spoken_languages.map(lambda x: [d['name'] for d in get_dictionary(x)]).map(lambda x: ','.join(map(str, x)))\n",
    "# df.production_countries = df.production_countries.map(lambda x: [d['name'] for d in get_dictionary(x)]).map(lambda x: ','.join(map(str, x)))\n",
    "\n",
    "# New columns\n",
    "# df['characters'] = df.cast.map(lambda x: [d['character'] for d in get_dictionary(x)]).map(lambda x: ','.join(map(str, x)))\n",
    "df['characters_gender'] = df.cast.map(lambda x: [d['gender'] for d in get_dictionary(x)]).map(lambda x: ','.join(map(str, x)))\n",
    "# df['actors'] = df.cast.map(lambda x: [d['name'] for d in get_dictionary(x)]).map(lambda x: ','.join(map(str, x)))\n",
    "df['actors_order'] = df.cast.map(lambda x: [d['order'] for d in get_dictionary(x)]).map(lambda x: ','.join(map(str, x)))\n",
    "# df.crew = df.crew.map(lambda x: [d['name'] for d in get_dictionary(x)]).map(lambda x: ','.join(map(str, x)))\n",
    "df['crew_gender'] = df.cast.map(lambda x: [d['gender'] for d in get_dictionary(x)]).map(lambda x: ','.join(map(str, x)))\n"
   ]
  },
  {
   "cell_type": "code",
   "execution_count": null,
   "metadata": {},
   "outputs": [],
   "source": [
    "df.pop('production_companies')\n",
    "df.pop('production_countries')\n",
    "df.pop('cast')\n",
    "df.pop('crew')\n",
    "df.pop('original_title')\n",
    "df.pop('popularity')\n",
    "df.pop('tagline')\n",
    "df.pop('vote_average')\n",
    "df.pop('vote_count')\n",
    "df.pop('overview')\n",
    "df.pop('id')"
   ]
  },
  {
   "cell_type": "code",
   "execution_count": null,
   "metadata": {},
   "outputs": [],
   "source": [
    "df.head()"
   ]
  },
  {
   "cell_type": "code",
   "execution_count": null,
   "metadata": {},
   "outputs": [],
   "source": [
    "language_list = [i for i in df.original_language]\n",
    "print(Counter(language_list))\n",
    "print(len(Counter(language_list))) "
   ]
  },
  {
   "attachments": {},
   "cell_type": "markdown",
   "metadata": {},
   "source": [
    "Il y a trop de langues pour que cela soit pertinant à transcrire en onehotencoding. On peut cependant noter que la plupart des langues sont peu présentes.\n",
    "On va donc réduire l'ensemble des langues utilisés à 'en' et 'other'. Si la puissance de calcul est suifisant on pourrait voir à rajouter d'autres langues.\n",
    "\n",
    "0 = other,\n",
    "1 = english\n",
    "\n",
    "Les valeurs manquantes seront remplacé par de l'anglais (valeur la plus probable)"
   ]
  },
  {
   "cell_type": "code",
   "execution_count": null,
   "metadata": {},
   "outputs": [],
   "source": [
    "df.original_language = df.original_language.fillna(1)\n",
    "df.original_language = df.original_language.replace(to_replace=r'(^((?!en).)*$)', value=0, regex=True)\n",
    "df.original_language = df.original_language.replace(to_replace=r'en', value=1, regex=True)"
   ]
  },
  {
   "cell_type": "markdown",
   "metadata": {},
   "source": []
  },
  {
   "cell_type": "code",
   "execution_count": null,
   "metadata": {},
   "outputs": [],
   "source": [
    "genres_list = []\n",
    "for i in df['genres']:\n",
    "    genres_list.extend(i.split(','))\n",
    "print(Counter(genres_list))\n",
    "print(len(Counter(genres_list))) # 21 genres possibilité de faire du onehotencoding mais rajout de beaucoup de colonnes"
   ]
  },
  {
   "attachments": {},
   "cell_type": "markdown",
   "metadata": {},
   "source": [
    "Il y a 21 genres de film. Comme vu dans le notebook de visualisation 50% des films sont dans [drama, comedy, thriller, romance].\n",
    "Néanmoins, il n'y a pas de marche significative dans les genres après pour pouvoir simplifier les colonnes.\n",
    "Pour le moment on ne va pas réduire le nombre de colonnes."
   ]
  },
  {
   "cell_type": "code",
   "execution_count": null,
   "metadata": {},
   "outputs": [],
   "source": [
    "# companies_list = [i for i in df.production_companies]\n",
    "# print(Counter(companies_list))\n",
    "# print(len(Counter(companies_list))) \n",
    "# Beaucoup de valeur manquantes "
   ]
  },
  {
   "cell_type": "markdown",
   "metadata": {},
   "source": []
  },
  {
   "attachments": {},
   "cell_type": "markdown",
   "metadata": {},
   "source": [
    "Beaucoup de valeurs manquantes (12000) donc on va supprimer cette colonne."
   ]
  },
  {
   "cell_type": "code",
   "execution_count": null,
   "metadata": {},
   "outputs": [],
   "source": [
    "companies_list = [i for i in df.production_countries]\n",
    "# print(Counter(companies_list))\n",
    "print(len(Counter(companies_list))) \n",
    "# Beaucoup de valeur manquantes mais large"
   ]
  },
  {
   "attachments": {},
   "cell_type": "markdown",
   "metadata": {},
   "source": [
    "Beaucoup de valeur manquantes (6500). Dans la mesure où on a déjà une information quant à la langue d'origine. On peut supposer que cette colonne ajoute que peut d'informations supplémentaires (surtout si on a décidé de séparer en 'english' et 'other'). On ne va donc pas garder cette colonne. Même si il y est hautement probable que le pays d'origine influence le revenu."
   ]
  },
  {
   "cell_type": "code",
   "execution_count": null,
   "metadata": {},
   "outputs": [],
   "source": [
    "language_list = []\n",
    "for i in df['spoken_languages']:\n",
    "    language_list.extend(i.split(','))\n",
    "print(Counter(language_list))\n",
    "print(len(Counter(language_list)))"
   ]
  },
  {
   "attachments": {},
   "cell_type": "markdown",
   "metadata": {},
   "source": [
    "Il y a 75 langues différentes. On va procéder au même tri que précédemment, i.e les films en anglais versus les autres."
   ]
  },
  {
   "cell_type": "code",
   "execution_count": null,
   "metadata": {},
   "outputs": [],
   "source": [
    "df.spoken_languages = df.spoken_languages.fillna(1)\n",
    "df.spoken_languages = df.spoken_languages.replace(to_replace=r'(^((?!English).)*$)', value=0, regex=True)\n",
    "df.spoken_languages = df.spoken_languages.replace(to_replace=r'English', value=1, regex=True)"
   ]
  },
  {
   "attachments": {},
   "cell_type": "markdown",
   "metadata": {},
   "source": [
    "### Characters\n",
    "\n",
    "On va garder le nombre de characters dans le film faire puis garder le pourcentage de 0,1,2.\n"
   ]
  },
  {
   "cell_type": "code",
   "execution_count": null,
   "metadata": {},
   "outputs": [],
   "source": [
    "gender_list = []\n",
    "for i in df['characters_gender']:\n",
    "    gender_list.extend(i.split(','))\n",
    "print(Counter(gender_list))\n",
    "print(len(Counter(gender_list)))"
   ]
  },
  {
   "attachments": {},
   "cell_type": "markdown",
   "metadata": {},
   "source": [
    "Il y a quelques valeurs manqunates que nous allons ajouter à 0 (correspondant à 'innconu')"
   ]
  },
  {
   "cell_type": "code",
   "execution_count": null,
   "metadata": {},
   "outputs": [],
   "source": [
    "df.characters_gender = df.characters_gender.fillna(0)"
   ]
  }
 ],
 "metadata": {
  "kernelspec": {
   "display_name": "base",
   "language": "python",
   "name": "python3"
  },
  "language_info": {
   "codemirror_mode": {
    "name": "ipython",
    "version": 3
   },
   "file_extension": ".py",
   "mimetype": "text/x-python",
   "name": "python",
   "nbconvert_exporter": "python",
   "pygments_lexer": "ipython3",
   "version": "3.9.12"
  },
  "orig_nbformat": 4,
  "vscode": {
   "interpreter": {
    "hash": "bc5a6fcd42aefd11aead72b01bc4e6842c205ebb69c94514e1be95f4dbf05863"
   }
  }
 },
 "nbformat": 4,
 "nbformat_minor": 2
}
