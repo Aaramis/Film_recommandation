{
 "cells": [
  {
   "attachments": {},
   "cell_type": "markdown",
   "metadata": {},
   "source": [
    "# Data Transformation Diversity and Inclusivity"
   ]
  },
  {
   "attachments": {},
   "cell_type": "markdown",
   "metadata": {},
   "source": [
    "Dans cette partie nous allons formater la table que nous allons utiliser pour nos algorithmes.\n",
    "Dans un premier temps nous choississons comme objectif de prédire les recettes d'un film.\n",
    "On va donc prendre en compte toutes les données relatives au travail en amont de la sortie et donc sortir les donnnées issues des utilisateurs comme par exemple la popularité.\n",
    "Dans un deuxième temps on va essayer de tester une hypothèse sur ces revenues :\n",
    "Est-ce que la diversité (sexe, nationnalité) influence ces revenus ?"
   ]
  },
  {
   "cell_type": "code",
   "execution_count": null,
   "metadata": {},
   "outputs": [],
   "source": [
    "# Libraries import\n",
    "import pandas as pd\n",
    "import numpy as np\n",
    "import seaborn as sns\n",
    "import matplotlib.pyplot as plt\n",
    "from wordcloud import WordCloud\n",
    "from collections import Counter"
   ]
  },
  {
   "cell_type": "code",
   "execution_count": null,
   "metadata": {},
   "outputs": [],
   "source": [
    "# Dataset import\n",
    "\n",
    "credits = pd.read_csv('./archive/credits.csv', delimiter=',',index_col=\"id\")\n",
    "# keywords = pd.read_csv('./archive/keywords.csv', delimiter=',',index_col=\"id\") # Pas très informatif pour notre question\n",
    "movies = pd.read_csv('./archive/movies_metadata.csv', delimiter=',').\\\n",
    "                     drop(['belongs_to_collection', 'homepage', 'imdb_id', 'poster_path', 'status', 'title', 'video'], axis=1).\\\n",
    "                     drop([19730, 29503, 35587]) "
   ]
  },
  {
   "cell_type": "code",
   "execution_count": null,
   "metadata": {},
   "outputs": [],
   "source": [
    "movies['id'] = movies['id'].astype('int64') # incorrect datatype for merge \n",
    "df = movies.merge(credits, on='id')"
   ]
  },
  {
   "cell_type": "code",
   "execution_count": null,
   "metadata": {},
   "outputs": [],
   "source": [
    "# Converssion Json format en nominal format\n",
    "def get_dictionary(s):\n",
    "    try:\n",
    "        d = eval(s)\n",
    "    except:\n",
    "        d = {}\n",
    "    return d"
   ]
  },
  {
   "attachments": {},
   "cell_type": "markdown",
   "metadata": {},
   "source": [
    "Pour obtenir cette notion de diversité, on peut ce baser sur le genre des personnes et leur ordre d'importance.\n",
    "Le genre est associé au personnage et nom à l'acteur. (2 = homme, 1 = femme)\n",
    "Pour l'équipe de tournage, on a accès au genre mais connaitre la position dans l'organigramme et donc son influence est plus compliqué.\n",
    "\n",
    "Après avoir analyser les données il est apparu qu'il n'y avait pas de différence entre le genre du charactère et le genre de l'acteur"
   ]
  },
  {
   "cell_type": "code",
   "execution_count": null,
   "metadata": {},
   "outputs": [],
   "source": [
    "# df.keywords = df.keywords.map(lambda x: [d['name'] for d in get_dictionary(x)]).map(lambda x: ','.join(map(str, x)))\n",
    "df.genres = df.genres.map(lambda x: [d['name'] for d in get_dictionary(x)]).map(lambda x: ','.join(map(str, x)))\n",
    "# df.production_companies = df.production_companies.map(lambda x: [d['name'] for d in get_dictionary(x)]).map(lambda x: ','.join(map(str, x))) # trop de valeur manquantes\n",
    "df.spoken_languages = df.spoken_languages.map(lambda x: [d['name'] for d in get_dictionary(x)]).map(lambda x: ','.join(map(str, x)))\n",
    "# df.production_countries = df.production_countries.map(lambda x: [d['name'] for d in get_dictionary(x)]).map(lambda x: ','.join(map(str, x)))\n",
    "\n",
    "# New columns\n",
    "# df['characters'] = df.cast.map(lambda x: [d['character'] for d in get_dictionary(x)]).map(lambda x: ','.join(map(str, x)))\n",
    "df['characters_gender'] = df.cast.map(lambda x: [d['gender'] for d in get_dictionary(x)]).map(lambda x: ','.join(map(str, x)))\n",
    "# df['actors'] = df.cast.map(lambda x: [d['name'] for d in get_dictionary(x)]).map(lambda x: ','.join(map(str, x)))\n",
    "# df['actors_order'] = df.cast.map(lambda x: [d['order'] for d in get_dictionary(x)]).map(lambda x: ','.join(map(str, x)))\n",
    "# df.crew = df.crew.map(lambda x: [d['name'] for d in get_dictionary(x)]).map(lambda x: ','.join(map(str, x)))\n",
    "df['crew_gender'] = df.crew.map(lambda x: [d['gender'] for d in get_dictionary(x)]).map(lambda x: ','.join(map(str, x)))\n"
   ]
  },
  {
   "cell_type": "code",
   "execution_count": null,
   "metadata": {},
   "outputs": [],
   "source": [
    "df.pop('production_companies')\n",
    "df.pop('production_countries')\n",
    "df.pop('cast')\n",
    "df.pop('crew')\n",
    "df.pop('original_title')\n",
    "df.pop('popularity')\n",
    "df.pop('tagline')\n",
    "df.pop('vote_average')\n",
    "df.pop('vote_count')\n",
    "df.pop('overview')\n",
    "df.pop('id')"
   ]
  },
  {
   "cell_type": "code",
   "execution_count": null,
   "metadata": {},
   "outputs": [],
   "source": [
    "df.head()"
   ]
  },
  {
   "cell_type": "code",
   "execution_count": null,
   "metadata": {},
   "outputs": [],
   "source": [
    "language_list = [i for i in df.original_language]\n",
    "print(Counter(language_list))\n",
    "print(len(Counter(language_list))) "
   ]
  },
  {
   "attachments": {},
   "cell_type": "markdown",
   "metadata": {},
   "source": [
    "Il y a trop de langues pour que cela soit pertinant à transcrire en onehotencoding. On peut cependant noter que la plupart des langues sont peu présentes.\n",
    "On va donc réduire l'ensemble des langues utilisés à 'en' et 'other'. Si la puissance de calcul est suifisant on pourrait voir à rajouter d'autres langues.\n",
    "\n",
    "0 = other,\n",
    "1 = english\n",
    "\n",
    "Les valeurs manquantes seront remplacé par de l'anglais (valeur la plus probable)"
   ]
  },
  {
   "cell_type": "code",
   "execution_count": null,
   "metadata": {},
   "outputs": [],
   "source": [
    "df.original_language = df.original_language.fillna(1)\n",
    "df.original_language = df.original_language.replace(to_replace=r'(^((?!en).)*$)', value=0, regex=True)\n",
    "df.original_language = df.original_language.replace(to_replace=r'en', value=1, regex=True)"
   ]
  },
  {
   "cell_type": "markdown",
   "metadata": {},
   "source": []
  },
  {
   "cell_type": "code",
   "execution_count": null,
   "metadata": {},
   "outputs": [],
   "source": [
    "genres_list = []\n",
    "for i in df['genres']:\n",
    "    genres_list.extend(i.split(','))\n",
    "print(Counter(genres_list))\n",
    "print(len(Counter(genres_list))) # 21 genres possibilité de faire du onehotencoding mais rajout de beaucoup de colonnes"
   ]
  },
  {
   "attachments": {},
   "cell_type": "markdown",
   "metadata": {},
   "source": [
    "Il y a 21 genres de film. Comme vu dans le notebook de visualisation 50% des films sont dans [drama, comedy, thriller, romance].\n",
    "Néanmoins, il n'y a pas de marche significative dans les genres après pour pouvoir simplifier les colonnes.\n",
    "Pour le moment on ne va pas réduire le nombre de colonnes."
   ]
  },
  {
   "cell_type": "code",
   "execution_count": null,
   "metadata": {},
   "outputs": [],
   "source": [
    "# companies_list = [i for i in df.production_companies]\n",
    "# print(Counter(companies_list))\n",
    "# print(len(Counter(companies_list))) \n",
    "# Beaucoup de valeur manquantes "
   ]
  },
  {
   "cell_type": "markdown",
   "metadata": {},
   "source": []
  },
  {
   "attachments": {},
   "cell_type": "markdown",
   "metadata": {},
   "source": [
    "Beaucoup de valeurs manquantes (12000) donc on va supprimer cette colonne."
   ]
  },
  {
   "cell_type": "code",
   "execution_count": null,
   "metadata": {},
   "outputs": [],
   "source": [
    "# companies_list = [i for i in df.production_countries]\n",
    "# print(Counter(companies_list))\n",
    "# print(len(Counter(companies_list))) \n",
    "# Beaucoup de valeur manquantes mais large"
   ]
  },
  {
   "attachments": {},
   "cell_type": "markdown",
   "metadata": {},
   "source": [
    "Beaucoup de valeur manquantes (6500). Dans la mesure où on a déjà une information quant à la langue d'origine. On peut supposer que cette colonne ajoute que peut d'informations supplémentaires (surtout si on a décidé de séparer en 'english' et 'other'). On ne va donc pas garder cette colonne. Même si il y est hautement probable que le pays d'origine influence le revenu."
   ]
  },
  {
   "cell_type": "code",
   "execution_count": null,
   "metadata": {},
   "outputs": [],
   "source": [
    "language_list = []\n",
    "for i in df['spoken_languages']:\n",
    "    language_list.extend(i.split(','))\n",
    "print(Counter(language_list))\n",
    "print(len(Counter(language_list)))"
   ]
  },
  {
   "attachments": {},
   "cell_type": "markdown",
   "metadata": {},
   "source": [
    "Il y a 75 langues différentes. On va procéder au même tri que précédemment, i.e les films en anglais versus les autres.\n",
    "Possibilité aussi de rendre compte de la diversité par le nombre total de langues."
   ]
  },
  {
   "cell_type": "code",
   "execution_count": null,
   "metadata": {},
   "outputs": [],
   "source": [
    "language_size = []\n",
    "for i in df['spoken_languages']:\n",
    "    language_size.append((len(i.split(','))))\n",
    "df = df.assign(nb_language = language_size)"
   ]
  },
  {
   "cell_type": "code",
   "execution_count": null,
   "metadata": {},
   "outputs": [],
   "source": [
    "df.spoken_languages = df.spoken_languages.replace(to_replace=r'(^((?!English).)*$)', value=0, regex=True)\n",
    "df.spoken_languages = df.spoken_languages.replace(to_replace=r'English', value=1, regex=True)"
   ]
  },
  {
   "attachments": {},
   "cell_type": "markdown",
   "metadata": {},
   "source": [
    "### Characters\n",
    "\n",
    "On va garder le nombre de characters dans le film faire puis garder le pourcentage de homme et femme.\n",
    "Une question va aussi se poser sur comment considérer l'ordre. Que cherche-t'on à mettre en évidence ?\n",
    "A l'issue de cette transformation on aura déjà une information quand au ratio homme/femme. \n",
    "On pourrait chercher dans l'ordre, si il existe un désequilibre dans cet ordre (plus d'homme au début).\n",
    "Mais cela me semble compliqué de réaliser cette tache sans produire trop de biais donc par simplicité on va garder la position de la première femme dans le casting et cette valeur sera plus ou moins représentatif de ce désequilibre. \n",
    "En réalité on a d'ailleur pas besoin de d'avoir l'ordre du casting puisque la liste des genres est déjà ordonnée. On peut donc retirer order dans le prétraitement.\n",
    "Si il n'y a aucune femme alors on positionnera cette valeur comme étant à la dernière position\n"
   ]
  },
  {
   "cell_type": "code",
   "execution_count": null,
   "metadata": {},
   "outputs": [],
   "source": [
    "gender_list = []\n",
    "for i in df['characters_gender']:\n",
    "    gender_list.extend(i.split(','))\n",
    "print(Counter(gender_list))\n",
    "print(len(Counter(gender_list))) # pas vraiment de valeur maquantes en réalité, c'est juste mauvaise utilisation du split"
   ]
  },
  {
   "cell_type": "code",
   "execution_count": null,
   "metadata": {},
   "outputs": [],
   "source": [
    "# df.characters_gender = df.characters_gender.fillna(0)\n",
    "i = 0\n",
    "nb_cha = []\n",
    "order_f = []\n",
    "ratio_f = []\n",
    "ratio_h = []\n",
    "for line in df.characters_gender :\n",
    "    liste = line.split(',')\n",
    "    zero = liste.count('0')\n",
    "    fem = liste.count('1')\n",
    "    hom = liste.count('2')\n",
    "    if fem > 0:\n",
    "        order_f.append(liste.index('1'))\n",
    "    else :\n",
    "        order_f.append(fem + hom + zero)\n",
    "    nb_cha.append(fem + hom + zero)\n",
    "    if ((fem + hom + zero) > 0) :\n",
    "        ratio_f.append(fem /(fem + hom + zero))\n",
    "        ratio_h.append(hom /(fem + hom + zero))\n",
    "    else :\n",
    "        ratio_f.append(0)\n",
    "        ratio_h.append(0)\n",
    "    # print(zero,fem,hom)\n",
    "\n",
    "df = df.assign(nb_ch = nb_cha)\n",
    "df = df.assign(r_fem_ch = ratio_f)\n",
    "df = df.assign(r_hom_ch = ratio_h)\n",
    "df = df.assign(order_fem = order_f)\n",
    "df.head()\n",
    "# df.pop('C')"
   ]
  },
  {
   "attachments": {},
   "cell_type": "markdown",
   "metadata": {},
   "source": [
    "### Crew"
   ]
  },
  {
   "cell_type": "code",
   "execution_count": null,
   "metadata": {},
   "outputs": [],
   "source": [
    "# df.characters_gender = df.characters_gender.fillna(0)\n",
    "i = 0\n",
    "nb_cha = []\n",
    "ratio_f = []\n",
    "ratio_h = []\n",
    "for line in df.crew_gender :\n",
    "    liste = line.split(',')\n",
    "    zero = liste.count('0')\n",
    "    fem = liste.count('1')\n",
    "    hom = liste.count('2')\n",
    "    nb_cha.append(fem + hom + zero)\n",
    "    if ((fem + hom + zero) > 0) :\n",
    "        ratio_f.append(fem /(fem + hom + zero))\n",
    "        ratio_h.append(hom /(fem + hom + zero))\n",
    "    else :\n",
    "        ratio_f.append(0)\n",
    "        ratio_h.append(0)\n",
    "    # print(zero,fem,hom)\n",
    "\n",
    "df = df.assign(nb_crew = nb_cha)\n",
    "df = df.assign(r_fem_crew = ratio_f)\n",
    "df = df.assign(r_hom_crew = ratio_h)\n",
    "# df.pop('C')"
   ]
  },
  {
   "cell_type": "code",
   "execution_count": null,
   "metadata": {},
   "outputs": [],
   "source": [
    "df.pop('characters_gender')\n",
    "df.pop('crew_gender')"
   ]
  },
  {
   "cell_type": "code",
   "execution_count": null,
   "metadata": {},
   "outputs": [],
   "source": [
    "df.head()"
   ]
  },
  {
   "attachments": {},
   "cell_type": "markdown",
   "metadata": {},
   "source": [
    "### Runtime\n",
    "\n",
    "Il y a des valeurs de runtime abérante. Un runtime de 1256 est énorme mais peut correspondre à une grosse série. En revanche un runtime de 0 ne veut rien dire."
   ]
  },
  {
   "cell_type": "code",
   "execution_count": null,
   "metadata": {},
   "outputs": [],
   "source": [
    "print(df.runtime.min(), df.runtime.max())"
   ]
  },
  {
   "cell_type": "code",
   "execution_count": null,
   "metadata": {},
   "outputs": [],
   "source": [
    "runtime_mean = df.runtime.mean()\n",
    "df.runtime = df.runtime.replace(to_replace=0, value=runtime_mean)\n",
    "df.runtime = df.runtime.fillna(runtime_mean)"
   ]
  },
  {
   "attachments": {},
   "cell_type": "markdown",
   "metadata": {},
   "source": [
    "### Données temporelles\n",
    "\n",
    "On peut largement imaginer qu'il existe une influence du mois dans le succés d'un film. On va donc procéder à un prétraitement des données temporelles."
   ]
  },
  {
   "cell_type": "code",
   "execution_count": null,
   "metadata": {},
   "outputs": [],
   "source": [
    "# Converting the format of the date and creating new year, day, and month columns\n",
    "# df.info()\n",
    "\n",
    "df.release_date = pd.to_datetime(df.release_date)\n",
    "df = df.drop(df[df.release_date.isnull()].index)\n",
    "# df.drop[df[\"release_date\"].isnull()]\n",
    "df[\"release_year\"] = pd.to_datetime(df[\"release_date\"]).dt.year.astype(int)\n",
    "# df[\"release_day\"] = pd.to_datetime(df[\"release_date\"]).dt.dayofweek.astype(int)\n",
    "df[\"release_month\"] = pd.to_datetime(df[\"release_date\"]).dt.month.astype(int)\n"
   ]
  },
  {
   "cell_type": "code",
   "execution_count": null,
   "metadata": {},
   "outputs": [],
   "source": [
    "print(df.release_year.max(),df.release_month.max(),df.release_year.min(),df.release_month.min())"
   ]
  },
  {
   "cell_type": "code",
   "execution_count": null,
   "metadata": {},
   "outputs": [],
   "source": [
    "fig, ax = plt.subplots(3, 1, tight_layout=True)\n",
    "plt.grid()\n",
    "\n",
    "df.groupby('release_year')['revenue'].mean().plot(ax=ax[0], figsize=(10, 10), linewidth=3, color='green').set_title('Revenue over the Years', fontweight=\"bold\")\n",
    "df.groupby('release_month')['revenue'].mean().plot(ax=ax[1], figsize=(10, 10), linewidth=3, color='green').set_title('Revenue over the Months', fontweight=\"bold\")\n",
    "\n",
    "\n",
    "# df['Décennie'] = df['release_year'].apply(lambda x: str(x)[:3] + '0')\n",
    "dbgroupby = df.groupby(['release_month',df['release_year'].apply(lambda x: str(x)[:3] + '0')])['revenue'].mean()\n",
    "# dbgroupby.unstack().plot((ax=ax[2], figsize=(10,10))\n",
    "\n",
    "\n",
    "# df_grouped = df.groupby(['nom', 'année']).sum()\n",
    "dbgroupby = df.groupby(['release_month',df['release_year'].apply(lambda x: str(x)[:3] + '0')])['revenue'].mean().unstack().plot(ax=ax[2], figsize=(10, 10), linewidth=3).set_title('Revenue over the Months', fontweight=\"bold\")"
   ]
  },
  {
   "attachments": {},
   "cell_type": "markdown",
   "metadata": {},
   "source": [
    "### One hot encoding"
   ]
  },
  {
   "cell_type": "code",
   "execution_count": null,
   "metadata": {},
   "outputs": [],
   "source": [
    "months = ['jan', 'fev', 'mars', 'avril', 'mai', 'juin', 'juil', 'aout', 'sept', 'oct', 'nov', 'dec']\n",
    "\n",
    "list_test = [months[int(i)-1] for i in df.release_month]\n",
    "df = df.assign(release_month = list_test)"
   ]
  },
  {
   "cell_type": "code",
   "execution_count": null,
   "metadata": {},
   "outputs": [],
   "source": [
    "df = pd.get_dummies(df, columns=['release_month'])"
   ]
  },
  {
   "cell_type": "code",
   "execution_count": null,
   "metadata": {},
   "outputs": [],
   "source": [
    "df_genre = pd.Series(df.genres).str.get_dummies(sep=',')\n",
    "df = pd.concat([df, df_genre], axis = 1) "
   ]
  },
  {
   "cell_type": "code",
   "execution_count": null,
   "metadata": {},
   "outputs": [],
   "source": [
    "df_genre.head()"
   ]
  },
  {
   "cell_type": "code",
   "execution_count": null,
   "metadata": {},
   "outputs": [],
   "source": [
    "genre_size = []\n",
    "for i in df['genres']:\n",
    "    genre_size.append((len(i.split(','))))\n",
    "df = df.assign(nb_genre = genre_size)"
   ]
  },
  {
   "cell_type": "code",
   "execution_count": null,
   "metadata": {},
   "outputs": [],
   "source": [
    "df.pop('genres')\n",
    "df.pop('release_date')"
   ]
  },
  {
   "attachments": {},
   "cell_type": "markdown",
   "metadata": {},
   "source": [
    "### Budget"
   ]
  },
  {
   "attachments": {},
   "cell_type": "markdown",
   "metadata": {},
   "source": [
    "Un bugdet et un revenu égal à 0 n'a pas de sens. On peut essayer de remplacer les variables par les plus proches voisins.\\\n",
    "Cette étapes aura nécessairement une influence importante sur notre résultat. \\\n",
    "On peut penser qu'un tel mécanisme peut conduire à influencer positivement l'influence du budget sur le revenu."
   ]
  },
  {
   "cell_type": "code",
   "execution_count": null,
   "metadata": {},
   "outputs": [],
   "source": [
    "print((df.revenue == 0).sum())\n",
    "print((df.revenue.isna().sum()))\n",
    "df.revenue.describe()"
   ]
  },
  {
   "cell_type": "code",
   "execution_count": null,
   "metadata": {},
   "outputs": [],
   "source": [
    "df.pop('adult')\n",
    "df.budget= df.budget.astype(int)"
   ]
  },
  {
   "cell_type": "code",
   "execution_count": null,
   "metadata": {},
   "outputs": [],
   "source": [
    "\n",
    "df['budget'] = df['budget'].replace(0, np.nan)\n",
    "df['revenue'] = df['revenue'].replace(0, np.nan)\n",
    "# df.budget.isnull().sum()"
   ]
  },
  {
   "cell_type": "code",
   "execution_count": null,
   "metadata": {},
   "outputs": [],
   "source": [
    "from sklearn.impute import KNNImputer\n",
    "imputer = KNNImputer(n_neighbors=2)\n",
    "df_filled = imputer.fit_transform(df)\n",
    "df_filled = pd.DataFrame(df_filled, columns=df.columns)"
   ]
  },
  {
   "cell_type": "code",
   "execution_count": null,
   "metadata": {},
   "outputs": [],
   "source": [
    "df_filled.to_csv('./data/diversity.csv', index=False)"
   ]
  }
 ],
 "metadata": {
  "kernelspec": {
   "display_name": "base",
   "language": "python",
   "name": "python3"
  },
  "language_info": {
   "codemirror_mode": {
    "name": "ipython",
    "version": 3
   },
   "file_extension": ".py",
   "mimetype": "text/x-python",
   "name": "python",
   "nbconvert_exporter": "python",
   "pygments_lexer": "ipython3",
   "version": "3.9.12"
  },
  "orig_nbformat": 4,
  "vscode": {
   "interpreter": {
    "hash": "bc5a6fcd42aefd11aead72b01bc4e6842c205ebb69c94514e1be95f4dbf05863"
   }
  }
 },
 "nbformat": 4,
 "nbformat_minor": 2
}
