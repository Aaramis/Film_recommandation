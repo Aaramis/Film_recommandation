{
 "cells": [
  {
   "attachments": {},
   "cell_type": "markdown",
   "metadata": {},
   "source": [
    "# Data Transformation Diversity and Inclusivity"
   ]
  },
  {
   "attachments": {},
   "cell_type": "markdown",
   "metadata": {},
   "source": [
    "Dans cette partie nous allons formater la table que nous allons utiliser pour nos algorithmes.\n",
    "Dans un premier temps nous choississons comme objectif de prédire les recettes d'un film.\n",
    "On va donc prendre en compte toutes les données relatives au travail en amont de la sortie et donc sortir les donnnées issues des utilisateurs comme par exemple la popularité.\n",
    "Dans un deuxième temps on va essayer de tester une hypothèse sur ces revenues :\n",
    "Est-ce que la diversité (sexe, nationnalité) influence ces revenus ?"
   ]
  },
  {
   "cell_type": "code",
   "execution_count": 221,
   "metadata": {},
   "outputs": [],
   "source": [
    "# Libraries import\n",
    "import pandas as pd\n",
    "import numpy as np\n",
    "import seaborn as sns\n",
    "import matplotlib.pyplot as plt\n",
    "from wordcloud import WordCloud\n",
    "from collections import Counter"
   ]
  },
  {
   "cell_type": "code",
   "execution_count": 222,
   "metadata": {},
   "outputs": [
    {
     "name": "stderr",
     "output_type": "stream",
     "text": [
      "/tmp/ipykernel_1333918/172605203.py:5: DtypeWarning: Columns (10) have mixed types. Specify dtype option on import or set low_memory=False.\n",
      "  movies = pd.read_csv('./archive/movies_metadata.csv', delimiter=',').\\\n"
     ]
    }
   ],
   "source": [
    "# Dataset import\n",
    "\n",
    "credits = pd.read_csv('./archive/credits.csv', delimiter=',',index_col=\"id\")\n",
    "# keywords = pd.read_csv('./archive/keywords.csv', delimiter=',',index_col=\"id\") # Pas très informatif pour notre question\n",
    "movies = pd.read_csv('./archive/movies_metadata.csv', delimiter=',').\\\n",
    "                     drop(['belongs_to_collection', 'homepage', 'imdb_id', 'poster_path', 'status', 'title', 'video'], axis=1).\\\n",
    "                     drop([19730, 29503, 35587]) "
   ]
  },
  {
   "cell_type": "code",
   "execution_count": 223,
   "metadata": {},
   "outputs": [],
   "source": [
    "movies['id'] = movies['id'].astype('int64') # incorrect datatype for merge \n",
    "df = movies.merge(credits, on='id')"
   ]
  },
  {
   "cell_type": "code",
   "execution_count": 224,
   "metadata": {},
   "outputs": [],
   "source": [
    "# Converssion Json format en nominal format\n",
    "def get_dictionary(s):\n",
    "    try:\n",
    "        d = eval(s)\n",
    "    except:\n",
    "        d = {}\n",
    "    return d"
   ]
  },
  {
   "attachments": {},
   "cell_type": "markdown",
   "metadata": {},
   "source": [
    "Pour obtenir cette notion de diversité, on peut ce baser sur le genre des personnes et leur ordre d'importance.\n",
    "Le genre est associé au personnage et nom à l'acteur. (2 = homme, 1 = femme)\n",
    "Pour l'équipe de tournage, on a accès au genre mais connaitre la position dans l'organigramme et donc son influence est plus compliqué.\n",
    "\n",
    "Après avoir analyser les données il est apparu qu'il n'y avait pas de différence entre le genre du charactère et le genre de l'acteur"
   ]
  },
  {
   "cell_type": "code",
   "execution_count": 225,
   "metadata": {},
   "outputs": [],
   "source": [
    "# for i in credits.crew:\n",
    "#     print(i)\n",
    "#     break"
   ]
  },
  {
   "cell_type": "code",
   "execution_count": 226,
   "metadata": {},
   "outputs": [],
   "source": [
    "# df.keywords = df.keywords.map(lambda x: [d['name'] for d in get_dictionary(x)]).map(lambda x: ','.join(map(str, x)))\n",
    "df.genres = df.genres.map(lambda x: [d['name'] for d in get_dictionary(x)]).map(lambda x: ','.join(map(str, x)))\n",
    "# df.production_companies = df.production_companies.map(lambda x: [d['name'] for d in get_dictionary(x)]).map(lambda x: ','.join(map(str, x))) # trop de valeur manquantes\n",
    "df.spoken_languages = df.spoken_languages.map(lambda x: [d['name'] for d in get_dictionary(x)]).map(lambda x: ','.join(map(str, x)))\n",
    "# df.production_countries = df.production_countries.map(lambda x: [d['name'] for d in get_dictionary(x)]).map(lambda x: ','.join(map(str, x)))\n",
    "\n",
    "# New columns\n",
    "# df['characters'] = df.cast.map(lambda x: [d['character'] for d in get_dictionary(x)]).map(lambda x: ','.join(map(str, x)))\n",
    "df['characters_gender'] = df.cast.map(lambda x: [d['gender'] for d in get_dictionary(x)]).map(lambda x: ','.join(map(str, x)))\n",
    "# df['actors'] = df.cast.map(lambda x: [d['name'] for d in get_dictionary(x)]).map(lambda x: ','.join(map(str, x)))\n",
    "# df['actors_order'] = df.cast.map(lambda x: [d['order'] for d in get_dictionary(x)]).map(lambda x: ','.join(map(str, x)))\n",
    "# df.crew = df.crew.map(lambda x: [d['name'] for d in get_dictionary(x)]).map(lambda x: ','.join(map(str, x)))\n",
    "df['crew_gender'] = df.crew.map(lambda x: [d['gender'] for d in get_dictionary(x)]).map(lambda x: ','.join(map(str, x)))\n"
   ]
  },
  {
   "cell_type": "code",
   "execution_count": 227,
   "metadata": {},
   "outputs": [
    {
     "data": {
      "text/plain": [
       "0           862\n",
       "1          8844\n",
       "2         15602\n",
       "3         31357\n",
       "4         11862\n",
       "          ...  \n",
       "45533    439050\n",
       "45534    111109\n",
       "45535     67758\n",
       "45536    227506\n",
       "45537    461257\n",
       "Name: id, Length: 45538, dtype: int64"
      ]
     },
     "execution_count": 227,
     "metadata": {},
     "output_type": "execute_result"
    }
   ],
   "source": [
    "df.pop('production_companies')\n",
    "df.pop('production_countries')\n",
    "df.pop('cast')\n",
    "df.pop('crew')\n",
    "df.pop('original_title')\n",
    "df.pop('popularity')\n",
    "df.pop('tagline')\n",
    "df.pop('vote_average')\n",
    "df.pop('vote_count')\n",
    "df.pop('overview')\n",
    "df.pop('id')"
   ]
  },
  {
   "cell_type": "code",
   "execution_count": 228,
   "metadata": {},
   "outputs": [
    {
     "data": {
      "text/html": [
       "<div>\n",
       "<style scoped>\n",
       "    .dataframe tbody tr th:only-of-type {\n",
       "        vertical-align: middle;\n",
       "    }\n",
       "\n",
       "    .dataframe tbody tr th {\n",
       "        vertical-align: top;\n",
       "    }\n",
       "\n",
       "    .dataframe thead th {\n",
       "        text-align: right;\n",
       "    }\n",
       "</style>\n",
       "<table border=\"1\" class=\"dataframe\">\n",
       "  <thead>\n",
       "    <tr style=\"text-align: right;\">\n",
       "      <th></th>\n",
       "      <th>adult</th>\n",
       "      <th>budget</th>\n",
       "      <th>genres</th>\n",
       "      <th>original_language</th>\n",
       "      <th>release_date</th>\n",
       "      <th>revenue</th>\n",
       "      <th>runtime</th>\n",
       "      <th>spoken_languages</th>\n",
       "      <th>characters_gender</th>\n",
       "      <th>crew_gender</th>\n",
       "    </tr>\n",
       "  </thead>\n",
       "  <tbody>\n",
       "    <tr>\n",
       "      <th>0</th>\n",
       "      <td>False</td>\n",
       "      <td>30000000</td>\n",
       "      <td>Animation,Comedy,Family</td>\n",
       "      <td>en</td>\n",
       "      <td>1995-10-30</td>\n",
       "      <td>373554033.0</td>\n",
       "      <td>81.0</td>\n",
       "      <td>English</td>\n",
       "      <td>2,2,2,2,2,2,1,0,2,1,2,1,2</td>\n",
       "      <td>2,2,2,2,0,1,0,2,2,2,2,2,0,0,0,2,0,0,2,2,0,0,0,...</td>\n",
       "    </tr>\n",
       "    <tr>\n",
       "      <th>1</th>\n",
       "      <td>False</td>\n",
       "      <td>65000000</td>\n",
       "      <td>Adventure,Fantasy,Family</td>\n",
       "      <td>en</td>\n",
       "      <td>1995-12-15</td>\n",
       "      <td>262797249.0</td>\n",
       "      <td>104.0</td>\n",
       "      <td>English,Français</td>\n",
       "      <td>2,2,1,0,1,1,2,1,0,1,2,1,2,0,0,0,2,2,0,2,0,2,0,...</td>\n",
       "      <td>2,2,2,2,2,0,0,2,2,2,2,2,2,2,2,2</td>\n",
       "    </tr>\n",
       "    <tr>\n",
       "      <th>2</th>\n",
       "      <td>False</td>\n",
       "      <td>0</td>\n",
       "      <td>Romance,Comedy</td>\n",
       "      <td>en</td>\n",
       "      <td>1995-12-22</td>\n",
       "      <td>0.0</td>\n",
       "      <td>101.0</td>\n",
       "      <td>English</td>\n",
       "      <td>2,2,1,1,1,2,2</td>\n",
       "      <td>2,2,2,2</td>\n",
       "    </tr>\n",
       "    <tr>\n",
       "      <th>3</th>\n",
       "      <td>False</td>\n",
       "      <td>16000000</td>\n",
       "      <td>Comedy,Drama,Romance</td>\n",
       "      <td>en</td>\n",
       "      <td>1995-12-22</td>\n",
       "      <td>81452156.0</td>\n",
       "      <td>127.0</td>\n",
       "      <td>English</td>\n",
       "      <td>1,1,1,1,2,2,2,2,2,2</td>\n",
       "      <td>2,0,0,2,1,0,0,0,2,0</td>\n",
       "    </tr>\n",
       "    <tr>\n",
       "      <th>4</th>\n",
       "      <td>False</td>\n",
       "      <td>0</td>\n",
       "      <td>Comedy</td>\n",
       "      <td>en</td>\n",
       "      <td>1995-02-10</td>\n",
       "      <td>76578911.0</td>\n",
       "      <td>106.0</td>\n",
       "      <td>English</td>\n",
       "      <td>2,1,2,1,2,0,2,2,1,1,2,1</td>\n",
       "      <td>2,2,1,1,2,2,2</td>\n",
       "    </tr>\n",
       "  </tbody>\n",
       "</table>\n",
       "</div>"
      ],
      "text/plain": [
       "   adult    budget                    genres original_language release_date  \\\n",
       "0  False  30000000   Animation,Comedy,Family                en   1995-10-30   \n",
       "1  False  65000000  Adventure,Fantasy,Family                en   1995-12-15   \n",
       "2  False         0            Romance,Comedy                en   1995-12-22   \n",
       "3  False  16000000      Comedy,Drama,Romance                en   1995-12-22   \n",
       "4  False         0                    Comedy                en   1995-02-10   \n",
       "\n",
       "       revenue  runtime  spoken_languages  \\\n",
       "0  373554033.0     81.0           English   \n",
       "1  262797249.0    104.0  English,Français   \n",
       "2          0.0    101.0           English   \n",
       "3   81452156.0    127.0           English   \n",
       "4   76578911.0    106.0           English   \n",
       "\n",
       "                                   characters_gender  \\\n",
       "0                          2,2,2,2,2,2,1,0,2,1,2,1,2   \n",
       "1  2,2,1,0,1,1,2,1,0,1,2,1,2,0,0,0,2,2,0,2,0,2,0,...   \n",
       "2                                      2,2,1,1,1,2,2   \n",
       "3                                1,1,1,1,2,2,2,2,2,2   \n",
       "4                            2,1,2,1,2,0,2,2,1,1,2,1   \n",
       "\n",
       "                                         crew_gender  \n",
       "0  2,2,2,2,0,1,0,2,2,2,2,2,0,0,0,2,0,0,2,2,0,0,0,...  \n",
       "1                    2,2,2,2,2,0,0,2,2,2,2,2,2,2,2,2  \n",
       "2                                            2,2,2,2  \n",
       "3                                2,0,0,2,1,0,0,0,2,0  \n",
       "4                                      2,2,1,1,2,2,2  "
      ]
     },
     "execution_count": 228,
     "metadata": {},
     "output_type": "execute_result"
    }
   ],
   "source": [
    "df.head()"
   ]
  },
  {
   "cell_type": "code",
   "execution_count": 229,
   "metadata": {},
   "outputs": [
    {
     "name": "stdout",
     "output_type": "stream",
     "text": [
      "Counter({'en': 32316, 'fr': 2443, 'it': 1529, 'ja': 1356, 'de': 1083, 'es': 993, 'ru': 826, 'hi': 508, 'ko': 444, 'zh': 409, 'sv': 386, 'pt': 316, 'cn': 313, 'fi': 303, 'nl': 248, 'da': 227, 'pl': 219, 'tr': 150, 'cs': 130, 'el': 113, 'no': 106, 'fa': 103, 'hu': 100, 'th': 78, 'ta': 78, 'he': 67, 'sr': 63, 'ro': 57, 'te': 45, 'ar': 39, 'ml': 36, 'xx': 34, 'bn': 29, 'hr': 29, 'mr': 25, 'is': 24, 'et': 24, 'tl': 23, 'id': 20, 'ka': 18, 'lv': 18, 'sl': 17, 'uk': 16, 'bs': 14, 'ca': 12, nan: 11, 'vi': 10, 'ab': 10, 'bg': 10, 'sk': 9, 'lt': 9, 'ur': 8, 'nb': 6, 'wo': 5, 'sh': 5, 'mk': 5, 'ms': 5, 'sq': 5, 'bm': 3, 'ku': 3, 'kk': 3, 'kn': 3, 'eu': 3, 'ky': 3, 'bo': 2, 'ps': 2, 'mn': 2, 'af': 2, 'am': 2, 'lo': 2, 'ne': 2, 'pa': 2, 'iu': 2, 'cy': 1, 'eo': 1, 'zu': 1, 'la': 1, 'fy': 1, 'rw': 1, 'qu': 1, 'jv': 1, 'tg': 1, 'ay': 1, 'gl': 1, 'uz': 1, 'sm': 1, 'mt': 1, 'hy': 1, 'lb': 1, 'si': 1})\n",
      "90\n"
     ]
    }
   ],
   "source": [
    "language_list = [i for i in df.original_language]\n",
    "print(Counter(language_list))\n",
    "print(len(Counter(language_list))) "
   ]
  },
  {
   "attachments": {},
   "cell_type": "markdown",
   "metadata": {},
   "source": [
    "Il y a trop de langues pour que cela soit pertinant à transcrire en onehotencoding. On peut cependant noter que la plupart des langues sont peu présentes.\n",
    "On va donc réduire l'ensemble des langues utilisés à 'en' et 'other'. Si la puissance de calcul est suifisant on pourrait voir à rajouter d'autres langues.\n",
    "\n",
    "0 = other,\n",
    "1 = english\n",
    "\n",
    "Les valeurs manquantes seront remplacé par de l'anglais (valeur la plus probable)"
   ]
  },
  {
   "cell_type": "code",
   "execution_count": 230,
   "metadata": {},
   "outputs": [],
   "source": [
    "df.original_language = df.original_language.fillna(1)\n",
    "df.original_language = df.original_language.replace(to_replace=r'(^((?!en).)*$)', value=0, regex=True)\n",
    "df.original_language = df.original_language.replace(to_replace=r'en', value=1, regex=True)"
   ]
  },
  {
   "cell_type": "markdown",
   "metadata": {},
   "source": []
  },
  {
   "cell_type": "code",
   "execution_count": 231,
   "metadata": {},
   "outputs": [
    {
     "name": "stdout",
     "output_type": "stream",
     "text": [
      "Counter({'Drama': 20312, 'Comedy': 13196, 'Thriller': 7640, 'Romance': 6746, 'Action': 6607, 'Horror': 4679, 'Crime': 4314, 'Documentary': 3937, 'Adventure': 3508, 'Science Fiction': 3061, 'Family': 2776, 'Mystery': 2477, '': 2442, 'Fantasy': 2322, 'Animation': 1945, 'Foreign': 1628, 'Music': 1600, 'History': 1398, 'War': 1325, 'Western': 1042, 'TV Movie': 769})\n",
      "21\n"
     ]
    }
   ],
   "source": [
    "genres_list = []\n",
    "for i in df['genres']:\n",
    "    genres_list.extend(i.split(','))\n",
    "print(Counter(genres_list))\n",
    "print(len(Counter(genres_list))) # 21 genres possibilité de faire du onehotencoding mais rajout de beaucoup de colonnes"
   ]
  },
  {
   "attachments": {},
   "cell_type": "markdown",
   "metadata": {},
   "source": [
    "Il y a 21 genres de film. Comme vu dans le notebook de visualisation 50% des films sont dans [drama, comedy, thriller, romance].\n",
    "Néanmoins, il n'y a pas de marche significative dans les genres après pour pouvoir simplifier les colonnes.\n",
    "Pour le moment on ne va pas réduire le nombre de colonnes."
   ]
  },
  {
   "cell_type": "code",
   "execution_count": 232,
   "metadata": {},
   "outputs": [],
   "source": [
    "# companies_list = [i for i in df.production_companies]\n",
    "# print(Counter(companies_list))\n",
    "# print(len(Counter(companies_list))) \n",
    "# Beaucoup de valeur manquantes "
   ]
  },
  {
   "cell_type": "markdown",
   "metadata": {},
   "source": []
  },
  {
   "attachments": {},
   "cell_type": "markdown",
   "metadata": {},
   "source": [
    "Beaucoup de valeurs manquantes (12000) donc on va supprimer cette colonne."
   ]
  },
  {
   "cell_type": "code",
   "execution_count": 233,
   "metadata": {},
   "outputs": [],
   "source": [
    "# companies_list = [i for i in df.production_countries]\n",
    "# print(Counter(companies_list))\n",
    "# print(len(Counter(companies_list))) \n",
    "# Beaucoup de valeur manquantes mais large"
   ]
  },
  {
   "attachments": {},
   "cell_type": "markdown",
   "metadata": {},
   "source": [
    "Beaucoup de valeur manquantes (6500). Dans la mesure où on a déjà une information quant à la langue d'origine. On peut supposer que cette colonne ajoute que peut d'informations supplémentaires (surtout si on a décidé de séparer en 'english' et 'other'). On ne va donc pas garder cette colonne. Même si il y est hautement probable que le pays d'origine influence le revenu."
   ]
  },
  {
   "cell_type": "code",
   "execution_count": 234,
   "metadata": {},
   "outputs": [
    {
     "name": "stdout",
     "output_type": "stream",
     "text": [
      "Counter({'English': 28787, '': 4336, 'Français': 4206, 'Deutsch': 2628, 'Español': 2413, 'Italiano': 2369, '日本語': 1762, 'Pусский': 1563, '普通话': 790, 'हिन्दी': 709, 'Português': 591, 'svenska': 564, '한국어/조선말': 542, 'Polski': 525, '广州话 / 廣州話': 473, 'suomi': 377, 'Magyar': 360, 'العربية': 342, 'Nederlands': 340, 'No Language': 320, 'Dansk': 304, 'Český': 286, 'Türkçe': 247, 'עִבְרִית': 215, 'ελληνικά': 213, 'ภาษาไทย': 178, 'Norsk': 173, 'فارسی': 144, 'Latin': 140, 'Română': 128, 'தமிழ்': 111, 'Srpski': 108, 'తెలుగు': 68, 'Tiếng Việt': 61, 'Íslenska': 60, 'اردو': 55, 'Український': 53, 'Hrvatski': 52, 'Eesti': 50, 'বাংলা': 47, 'Bahasa indonesia': 37, 'Català': 37, 'Bosanski': 33, 'ქართული': 33, 'български език': 32, 'shqip': 29, 'Afrikaans': 28, 'Lietuvi\\x9akai': 26, 'Slovenčina': 25, 'Kiswahili': 24, 'Slovenščina': 22, 'Gaeilge': 21, 'Latviešu': 21, 'isiZulu': 18, 'ਪੰਜਾਬੀ': 18, 'Bahasa melayu': 16, 'euskera': 16, 'Wolof': 14, 'қазақ': 11, 'Cymraeg': 9, 'Somali': 9, 'پښتو': 8, 'Esperanto': 7, 'Bamanankan': 6, 'Galego': 5, '??????': 5, 'Azərbaycan': 4, '?????': 4, 'Bokmål': 3, 'Malti': 3, 'Kinyarwanda': 3, 'беларуская мова': 2, 'Fulfulde': 2, 'ozbek': 2, 'Hausa': 1})\n",
      "75\n"
     ]
    }
   ],
   "source": [
    "language_list = []\n",
    "for i in df['spoken_languages']:\n",
    "    language_list.extend(i.split(','))\n",
    "print(Counter(language_list))\n",
    "print(len(Counter(language_list)))"
   ]
  },
  {
   "attachments": {},
   "cell_type": "markdown",
   "metadata": {},
   "source": [
    "Il y a 75 langues différentes. On va procéder au même tri que précédemment, i.e les films en anglais versus les autres.\n",
    "Possibilité aussi de rendre compte de la diversité par le nombre total de langues."
   ]
  },
  {
   "cell_type": "code",
   "execution_count": 235,
   "metadata": {},
   "outputs": [],
   "source": [
    "language_size = []\n",
    "for i in df['spoken_languages']:\n",
    "    language_size.append((len(i.split(','))))\n",
    "df = df.assign(nb_language = language_size)"
   ]
  },
  {
   "cell_type": "code",
   "execution_count": 236,
   "metadata": {},
   "outputs": [],
   "source": [
    "df.spoken_languages = df.spoken_languages.replace(to_replace=r'(^((?!English).)*$)', value=0, regex=True)\n",
    "df.spoken_languages = df.spoken_languages.replace(to_replace=r'English', value=1, regex=True)"
   ]
  },
  {
   "attachments": {},
   "cell_type": "markdown",
   "metadata": {},
   "source": [
    "### Characters\n",
    "\n",
    "On va garder le nombre de characters dans le film faire puis garder le pourcentage de homme et femme.\n",
    "Une question va aussi se poser sur comment considérer l'ordre. Que cherche-t'on à mettre en évidence ?\n",
    "A l'issue de cette transformation on aura déjà une information quand au ratio homme/femme. \n",
    "On pourrait chercher dans l'ordre, si il existe un désequilibre dans cet ordre (plus d'homme au début).\n",
    "Mais cela me semble compliqué de réaliser cette tache sans produire trop de biais donc par simplicité on va garder la position de la première femme dans le casting et cette valeur sera plus ou moins représentatif de ce désequilibre. \n",
    "En réalité on a d'ailleur pas besoin de d'avoir l'ordre du casting puisque la liste des genres est déjà ordonnée. On peut donc retirer order dans le prétraitement.\n",
    "Si il n'y a aucune femme alors on positionnera cette valeur comme étant à la dernière position\n"
   ]
  },
  {
   "cell_type": "code",
   "execution_count": 237,
   "metadata": {},
   "outputs": [
    {
     "name": "stdout",
     "output_type": "stream",
     "text": [
      "Counter({'2': 226955, '0': 224248, '1': 111909, '': 2420})\n",
      "4\n"
     ]
    }
   ],
   "source": [
    "gender_list = []\n",
    "for i in df['characters_gender']:\n",
    "    gender_list.extend(i.split(','))\n",
    "print(Counter(gender_list))\n",
    "print(len(Counter(gender_list))) # pas vraiment de valeur maquantes en réalité, c'est juste mauvaise utilisation du split"
   ]
  },
  {
   "cell_type": "code",
   "execution_count": 238,
   "metadata": {},
   "outputs": [
    {
     "data": {
      "text/html": [
       "<div>\n",
       "<style scoped>\n",
       "    .dataframe tbody tr th:only-of-type {\n",
       "        vertical-align: middle;\n",
       "    }\n",
       "\n",
       "    .dataframe tbody tr th {\n",
       "        vertical-align: top;\n",
       "    }\n",
       "\n",
       "    .dataframe thead th {\n",
       "        text-align: right;\n",
       "    }\n",
       "</style>\n",
       "<table border=\"1\" class=\"dataframe\">\n",
       "  <thead>\n",
       "    <tr style=\"text-align: right;\">\n",
       "      <th></th>\n",
       "      <th>adult</th>\n",
       "      <th>budget</th>\n",
       "      <th>genres</th>\n",
       "      <th>original_language</th>\n",
       "      <th>release_date</th>\n",
       "      <th>revenue</th>\n",
       "      <th>runtime</th>\n",
       "      <th>spoken_languages</th>\n",
       "      <th>characters_gender</th>\n",
       "      <th>crew_gender</th>\n",
       "      <th>nb_language</th>\n",
       "      <th>nb_ch</th>\n",
       "      <th>r_fem_ch</th>\n",
       "      <th>r_hom_ch</th>\n",
       "      <th>order_fem</th>\n",
       "    </tr>\n",
       "  </thead>\n",
       "  <tbody>\n",
       "    <tr>\n",
       "      <th>0</th>\n",
       "      <td>False</td>\n",
       "      <td>30000000</td>\n",
       "      <td>Animation,Comedy,Family</td>\n",
       "      <td>1</td>\n",
       "      <td>1995-10-30</td>\n",
       "      <td>373554033.0</td>\n",
       "      <td>81.0</td>\n",
       "      <td>1</td>\n",
       "      <td>2,2,2,2,2,2,1,0,2,1,2,1,2</td>\n",
       "      <td>2,2,2,2,0,1,0,2,2,2,2,2,0,0,0,2,0,0,2,2,0,0,0,...</td>\n",
       "      <td>1</td>\n",
       "      <td>13</td>\n",
       "      <td>0.230769</td>\n",
       "      <td>0.692308</td>\n",
       "      <td>6</td>\n",
       "    </tr>\n",
       "    <tr>\n",
       "      <th>1</th>\n",
       "      <td>False</td>\n",
       "      <td>65000000</td>\n",
       "      <td>Adventure,Fantasy,Family</td>\n",
       "      <td>1</td>\n",
       "      <td>1995-12-15</td>\n",
       "      <td>262797249.0</td>\n",
       "      <td>104.0</td>\n",
       "      <td>1</td>\n",
       "      <td>2,2,1,0,1,1,2,1,0,1,2,1,2,0,0,0,2,2,0,2,0,2,0,...</td>\n",
       "      <td>2,2,2,2,2,0,0,2,2,2,2,2,2,2,2,2</td>\n",
       "      <td>2</td>\n",
       "      <td>26</td>\n",
       "      <td>0.230769</td>\n",
       "      <td>0.346154</td>\n",
       "      <td>2</td>\n",
       "    </tr>\n",
       "    <tr>\n",
       "      <th>2</th>\n",
       "      <td>False</td>\n",
       "      <td>0</td>\n",
       "      <td>Romance,Comedy</td>\n",
       "      <td>1</td>\n",
       "      <td>1995-12-22</td>\n",
       "      <td>0.0</td>\n",
       "      <td>101.0</td>\n",
       "      <td>1</td>\n",
       "      <td>2,2,1,1,1,2,2</td>\n",
       "      <td>2,2,2,2</td>\n",
       "      <td>1</td>\n",
       "      <td>7</td>\n",
       "      <td>0.428571</td>\n",
       "      <td>0.571429</td>\n",
       "      <td>2</td>\n",
       "    </tr>\n",
       "    <tr>\n",
       "      <th>3</th>\n",
       "      <td>False</td>\n",
       "      <td>16000000</td>\n",
       "      <td>Comedy,Drama,Romance</td>\n",
       "      <td>1</td>\n",
       "      <td>1995-12-22</td>\n",
       "      <td>81452156.0</td>\n",
       "      <td>127.0</td>\n",
       "      <td>1</td>\n",
       "      <td>1,1,1,1,2,2,2,2,2,2</td>\n",
       "      <td>2,0,0,2,1,0,0,0,2,0</td>\n",
       "      <td>1</td>\n",
       "      <td>10</td>\n",
       "      <td>0.400000</td>\n",
       "      <td>0.600000</td>\n",
       "      <td>0</td>\n",
       "    </tr>\n",
       "    <tr>\n",
       "      <th>4</th>\n",
       "      <td>False</td>\n",
       "      <td>0</td>\n",
       "      <td>Comedy</td>\n",
       "      <td>1</td>\n",
       "      <td>1995-02-10</td>\n",
       "      <td>76578911.0</td>\n",
       "      <td>106.0</td>\n",
       "      <td>1</td>\n",
       "      <td>2,1,2,1,2,0,2,2,1,1,2,1</td>\n",
       "      <td>2,2,1,1,2,2,2</td>\n",
       "      <td>1</td>\n",
       "      <td>12</td>\n",
       "      <td>0.416667</td>\n",
       "      <td>0.500000</td>\n",
       "      <td>1</td>\n",
       "    </tr>\n",
       "  </tbody>\n",
       "</table>\n",
       "</div>"
      ],
      "text/plain": [
       "   adult    budget                    genres  original_language release_date  \\\n",
       "0  False  30000000   Animation,Comedy,Family                  1   1995-10-30   \n",
       "1  False  65000000  Adventure,Fantasy,Family                  1   1995-12-15   \n",
       "2  False         0            Romance,Comedy                  1   1995-12-22   \n",
       "3  False  16000000      Comedy,Drama,Romance                  1   1995-12-22   \n",
       "4  False         0                    Comedy                  1   1995-02-10   \n",
       "\n",
       "       revenue  runtime  spoken_languages  \\\n",
       "0  373554033.0     81.0                 1   \n",
       "1  262797249.0    104.0                 1   \n",
       "2          0.0    101.0                 1   \n",
       "3   81452156.0    127.0                 1   \n",
       "4   76578911.0    106.0                 1   \n",
       "\n",
       "                                   characters_gender  \\\n",
       "0                          2,2,2,2,2,2,1,0,2,1,2,1,2   \n",
       "1  2,2,1,0,1,1,2,1,0,1,2,1,2,0,0,0,2,2,0,2,0,2,0,...   \n",
       "2                                      2,2,1,1,1,2,2   \n",
       "3                                1,1,1,1,2,2,2,2,2,2   \n",
       "4                            2,1,2,1,2,0,2,2,1,1,2,1   \n",
       "\n",
       "                                         crew_gender  nb_language  nb_ch  \\\n",
       "0  2,2,2,2,0,1,0,2,2,2,2,2,0,0,0,2,0,0,2,2,0,0,0,...            1     13   \n",
       "1                    2,2,2,2,2,0,0,2,2,2,2,2,2,2,2,2            2     26   \n",
       "2                                            2,2,2,2            1      7   \n",
       "3                                2,0,0,2,1,0,0,0,2,0            1     10   \n",
       "4                                      2,2,1,1,2,2,2            1     12   \n",
       "\n",
       "   r_fem_ch  r_hom_ch  order_fem  \n",
       "0  0.230769  0.692308          6  \n",
       "1  0.230769  0.346154          2  \n",
       "2  0.428571  0.571429          2  \n",
       "3  0.400000  0.600000          0  \n",
       "4  0.416667  0.500000          1  "
      ]
     },
     "execution_count": 238,
     "metadata": {},
     "output_type": "execute_result"
    }
   ],
   "source": [
    "# df.characters_gender = df.characters_gender.fillna(0)\n",
    "i = 0\n",
    "nb_cha = []\n",
    "order_f = []\n",
    "ratio_f = []\n",
    "ratio_h = []\n",
    "for line in df.characters_gender :\n",
    "    liste = line.split(',')\n",
    "    zero = liste.count('0')\n",
    "    fem = liste.count('1')\n",
    "    hom = liste.count('2')\n",
    "    if fem > 0:\n",
    "        order_f.append(liste.index('1'))\n",
    "    else :\n",
    "        order_f.append(fem + hom + zero)\n",
    "    nb_cha.append(fem + hom + zero)\n",
    "    if ((fem + hom + zero) > 0) :\n",
    "        ratio_f.append(fem /(fem + hom + zero))\n",
    "        ratio_h.append(hom /(fem + hom + zero))\n",
    "    else :\n",
    "        ratio_f.append(0)\n",
    "        ratio_h.append(0)\n",
    "    # print(zero,fem,hom)\n",
    "\n",
    "df = df.assign(nb_ch = nb_cha)\n",
    "df = df.assign(r_fem_ch = ratio_f)\n",
    "df = df.assign(r_hom_ch = ratio_h)\n",
    "df = df.assign(order_fem = order_f)\n",
    "df.head()\n",
    "# df.pop('C')"
   ]
  },
  {
   "attachments": {},
   "cell_type": "markdown",
   "metadata": {},
   "source": [
    "### Crew"
   ]
  },
  {
   "cell_type": "code",
   "execution_count": 239,
   "metadata": {},
   "outputs": [],
   "source": [
    "# df.characters_gender = df.characters_gender.fillna(0)\n",
    "i = 0\n",
    "nb_cha = []\n",
    "ratio_f = []\n",
    "ratio_h = []\n",
    "for line in df.crew_gender :\n",
    "    liste = line.split(',')\n",
    "    zero = liste.count('0')\n",
    "    fem = liste.count('1')\n",
    "    hom = liste.count('2')\n",
    "    nb_cha.append(fem + hom + zero)\n",
    "    if ((fem + hom + zero) > 0) :\n",
    "        ratio_f.append(fem /(fem + hom + zero))\n",
    "        ratio_h.append(hom /(fem + hom + zero))\n",
    "    else :\n",
    "        ratio_f.append(0)\n",
    "        ratio_h.append(0)\n",
    "    # print(zero,fem,hom)\n",
    "\n",
    "df = df.assign(nb_crew = nb_cha)\n",
    "df = df.assign(r_fem_crew = ratio_f)\n",
    "df = df.assign(r_hom_crew = ratio_h)\n",
    "# df.pop('C')"
   ]
  },
  {
   "cell_type": "code",
   "execution_count": 240,
   "metadata": {},
   "outputs": [
    {
     "data": {
      "text/plain": [
       "0        2,2,2,2,0,1,0,2,2,2,2,2,0,0,0,2,0,0,2,2,0,0,0,...\n",
       "1                          2,2,2,2,2,0,0,2,2,2,2,2,2,2,2,2\n",
       "2                                                  2,2,2,2\n",
       "3                                      2,0,0,2,1,0,0,0,2,0\n",
       "4                                            2,2,1,1,2,2,2\n",
       "                               ...                        \n",
       "45533                                    0,0,0,0,0,0,0,0,0\n",
       "45534                                          0,0,0,0,0,0\n",
       "45535                                            2,2,2,0,2\n",
       "45536                                                  0,2\n",
       "45537                                                    0\n",
       "Name: crew_gender, Length: 45538, dtype: object"
      ]
     },
     "execution_count": 240,
     "metadata": {},
     "output_type": "execute_result"
    }
   ],
   "source": [
    "df.pop('characters_gender')\n",
    "df.pop('crew_gender')"
   ]
  },
  {
   "cell_type": "code",
   "execution_count": 241,
   "metadata": {},
   "outputs": [
    {
     "data": {
      "text/html": [
       "<div>\n",
       "<style scoped>\n",
       "    .dataframe tbody tr th:only-of-type {\n",
       "        vertical-align: middle;\n",
       "    }\n",
       "\n",
       "    .dataframe tbody tr th {\n",
       "        vertical-align: top;\n",
       "    }\n",
       "\n",
       "    .dataframe thead th {\n",
       "        text-align: right;\n",
       "    }\n",
       "</style>\n",
       "<table border=\"1\" class=\"dataframe\">\n",
       "  <thead>\n",
       "    <tr style=\"text-align: right;\">\n",
       "      <th></th>\n",
       "      <th>adult</th>\n",
       "      <th>budget</th>\n",
       "      <th>genres</th>\n",
       "      <th>original_language</th>\n",
       "      <th>release_date</th>\n",
       "      <th>revenue</th>\n",
       "      <th>runtime</th>\n",
       "      <th>spoken_languages</th>\n",
       "      <th>nb_language</th>\n",
       "      <th>nb_ch</th>\n",
       "      <th>r_fem_ch</th>\n",
       "      <th>r_hom_ch</th>\n",
       "      <th>order_fem</th>\n",
       "      <th>nb_crew</th>\n",
       "      <th>r_fem_crew</th>\n",
       "      <th>r_hom_crew</th>\n",
       "    </tr>\n",
       "  </thead>\n",
       "  <tbody>\n",
       "    <tr>\n",
       "      <th>0</th>\n",
       "      <td>False</td>\n",
       "      <td>30000000</td>\n",
       "      <td>Animation,Comedy,Family</td>\n",
       "      <td>1</td>\n",
       "      <td>1995-10-30</td>\n",
       "      <td>373554033.0</td>\n",
       "      <td>81.0</td>\n",
       "      <td>1</td>\n",
       "      <td>1</td>\n",
       "      <td>13</td>\n",
       "      <td>0.230769</td>\n",
       "      <td>0.692308</td>\n",
       "      <td>6</td>\n",
       "      <td>106</td>\n",
       "      <td>0.037736</td>\n",
       "      <td>0.273585</td>\n",
       "    </tr>\n",
       "    <tr>\n",
       "      <th>1</th>\n",
       "      <td>False</td>\n",
       "      <td>65000000</td>\n",
       "      <td>Adventure,Fantasy,Family</td>\n",
       "      <td>1</td>\n",
       "      <td>1995-12-15</td>\n",
       "      <td>262797249.0</td>\n",
       "      <td>104.0</td>\n",
       "      <td>1</td>\n",
       "      <td>2</td>\n",
       "      <td>26</td>\n",
       "      <td>0.230769</td>\n",
       "      <td>0.346154</td>\n",
       "      <td>2</td>\n",
       "      <td>16</td>\n",
       "      <td>0.000000</td>\n",
       "      <td>0.875000</td>\n",
       "    </tr>\n",
       "    <tr>\n",
       "      <th>2</th>\n",
       "      <td>False</td>\n",
       "      <td>0</td>\n",
       "      <td>Romance,Comedy</td>\n",
       "      <td>1</td>\n",
       "      <td>1995-12-22</td>\n",
       "      <td>0.0</td>\n",
       "      <td>101.0</td>\n",
       "      <td>1</td>\n",
       "      <td>1</td>\n",
       "      <td>7</td>\n",
       "      <td>0.428571</td>\n",
       "      <td>0.571429</td>\n",
       "      <td>2</td>\n",
       "      <td>4</td>\n",
       "      <td>0.000000</td>\n",
       "      <td>1.000000</td>\n",
       "    </tr>\n",
       "    <tr>\n",
       "      <th>3</th>\n",
       "      <td>False</td>\n",
       "      <td>16000000</td>\n",
       "      <td>Comedy,Drama,Romance</td>\n",
       "      <td>1</td>\n",
       "      <td>1995-12-22</td>\n",
       "      <td>81452156.0</td>\n",
       "      <td>127.0</td>\n",
       "      <td>1</td>\n",
       "      <td>1</td>\n",
       "      <td>10</td>\n",
       "      <td>0.400000</td>\n",
       "      <td>0.600000</td>\n",
       "      <td>0</td>\n",
       "      <td>10</td>\n",
       "      <td>0.100000</td>\n",
       "      <td>0.300000</td>\n",
       "    </tr>\n",
       "    <tr>\n",
       "      <th>4</th>\n",
       "      <td>False</td>\n",
       "      <td>0</td>\n",
       "      <td>Comedy</td>\n",
       "      <td>1</td>\n",
       "      <td>1995-02-10</td>\n",
       "      <td>76578911.0</td>\n",
       "      <td>106.0</td>\n",
       "      <td>1</td>\n",
       "      <td>1</td>\n",
       "      <td>12</td>\n",
       "      <td>0.416667</td>\n",
       "      <td>0.500000</td>\n",
       "      <td>1</td>\n",
       "      <td>7</td>\n",
       "      <td>0.285714</td>\n",
       "      <td>0.714286</td>\n",
       "    </tr>\n",
       "  </tbody>\n",
       "</table>\n",
       "</div>"
      ],
      "text/plain": [
       "   adult    budget                    genres  original_language release_date  \\\n",
       "0  False  30000000   Animation,Comedy,Family                  1   1995-10-30   \n",
       "1  False  65000000  Adventure,Fantasy,Family                  1   1995-12-15   \n",
       "2  False         0            Romance,Comedy                  1   1995-12-22   \n",
       "3  False  16000000      Comedy,Drama,Romance                  1   1995-12-22   \n",
       "4  False         0                    Comedy                  1   1995-02-10   \n",
       "\n",
       "       revenue  runtime  spoken_languages  nb_language  nb_ch  r_fem_ch  \\\n",
       "0  373554033.0     81.0                 1            1     13  0.230769   \n",
       "1  262797249.0    104.0                 1            2     26  0.230769   \n",
       "2          0.0    101.0                 1            1      7  0.428571   \n",
       "3   81452156.0    127.0                 1            1     10  0.400000   \n",
       "4   76578911.0    106.0                 1            1     12  0.416667   \n",
       "\n",
       "   r_hom_ch  order_fem  nb_crew  r_fem_crew  r_hom_crew  \n",
       "0  0.692308          6      106    0.037736    0.273585  \n",
       "1  0.346154          2       16    0.000000    0.875000  \n",
       "2  0.571429          2        4    0.000000    1.000000  \n",
       "3  0.600000          0       10    0.100000    0.300000  \n",
       "4  0.500000          1        7    0.285714    0.714286  "
      ]
     },
     "execution_count": 241,
     "metadata": {},
     "output_type": "execute_result"
    }
   ],
   "source": [
    "df.head()"
   ]
  },
  {
   "attachments": {},
   "cell_type": "markdown",
   "metadata": {},
   "source": [
    "### Runtime\n",
    "\n",
    "Il y a des valeurs de runtime abérante. Un runtime de 1256 est énorme mais peut correspondre à une grosse série. En revanche un runtime de 0 ne veut rien dire."
   ]
  },
  {
   "cell_type": "code",
   "execution_count": 242,
   "metadata": {},
   "outputs": [
    {
     "name": "stdout",
     "output_type": "stream",
     "text": [
      "0.0 1256.0\n"
     ]
    }
   ],
   "source": [
    "print(df.runtime.min(), df.runtime.max())"
   ]
  },
  {
   "cell_type": "code",
   "execution_count": 243,
   "metadata": {},
   "outputs": [],
   "source": [
    "runtime_mean = df.runtime.mean()\n",
    "df.runtime = df.runtime.replace(to_replace=0, value=runtime_mean)\n",
    "df.runtime = df.runtime.fillna(runtime_mean)"
   ]
  },
  {
   "attachments": {},
   "cell_type": "markdown",
   "metadata": {},
   "source": [
    "### Données temporelles\n",
    "\n",
    "On peut largement imaginer qu'il existe une influence du mois dans le succés d'un film. On va donc procéder à un prétraitement des données temporelles."
   ]
  },
  {
   "cell_type": "code",
   "execution_count": 244,
   "metadata": {},
   "outputs": [],
   "source": [
    "# Converting the format of the date and creating new year, day, and month columns\n",
    "# df.info()\n",
    "\n",
    "df.release_date = pd.to_datetime(df.release_date)\n",
    "df = df.drop(df[df.release_date.isnull()].index)\n",
    "# df.drop[df[\"release_date\"].isnull()]\n",
    "df[\"release_year\"] = pd.to_datetime(df[\"release_date\"]).dt.year.astype(int)\n",
    "# df[\"release_day\"] = pd.to_datetime(df[\"release_date\"]).dt.dayofweek.astype(int)\n",
    "df[\"release_month\"] = pd.to_datetime(df[\"release_date\"]).dt.month.astype(int)\n"
   ]
  },
  {
   "cell_type": "code",
   "execution_count": 245,
   "metadata": {},
   "outputs": [
    {
     "name": "stdout",
     "output_type": "stream",
     "text": [
      "2020 12 1874 1\n"
     ]
    }
   ],
   "source": [
    "print(df.release_year.max(),df.release_month.max(),df.release_year.min(),df.release_month.min())"
   ]
  },
  {
   "cell_type": "code",
   "execution_count": 246,
   "metadata": {},
   "outputs": [
    {
     "data": {
      "image/png": "[encoded data removed]",
      "text/plain": [
       "<Figure size 720x720 with 3 Axes>"
      ]
     },
     "metadata": {
      "needs_background": "light"
     },
     "output_type": "display_data"
    }
   ],
   "source": [
    "fig, ax = plt.subplots(3, 1, tight_layout=True)\n",
    "plt.grid()\n",
    "\n",
    "df.groupby('release_year')['revenue'].mean().plot(ax=ax[0], figsize=(10, 10), linewidth=3, color='green').set_title('Revenue over the Years', fontweight=\"bold\")\n",
    "df.groupby('release_month')['revenue'].mean().plot(ax=ax[1], figsize=(10, 10), linewidth=3, color='green').set_title('Revenue over the Months', fontweight=\"bold\")\n",
    "\n",
    "\n",
    "# df['Décennie'] = df['release_year'].apply(lambda x: str(x)[:3] + '0')\n",
    "dbgroupby = df.groupby(['release_month',df['release_year'].apply(lambda x: str(x)[:3] + '0')])['revenue'].mean()\n",
    "# dbgroupby.unstack().plot((ax=ax[2], figsize=(10,10))\n",
    "\n",
    "\n",
    "# df_grouped = df.groupby(['nom', 'année']).sum()\n",
    "dbgroupby = df.groupby(['release_month',df['release_year'].apply(lambda x: str(x)[:3] + '0')])['revenue'].mean().unstack().plot(ax=ax[2], figsize=(10, 10), linewidth=3).set_title('Revenue over the Months', fontweight=\"bold\")"
   ]
  },
  {
   "attachments": {},
   "cell_type": "markdown",
   "metadata": {},
   "source": [
    "### One hot encoding"
   ]
  },
  {
   "cell_type": "code",
   "execution_count": 247,
   "metadata": {},
   "outputs": [],
   "source": [
    "months = ['jan', 'fev', 'mars', 'avril', 'mai', 'juin', 'juil', 'aout', 'sept', 'oct', 'nov', 'dec']\n",
    "\n",
    "list_test = [months[int(i)-1] for i in df.release_month]\n",
    "df = df.assign(release_month = list_test)"
   ]
  },
  {
   "cell_type": "code",
   "execution_count": 248,
   "metadata": {},
   "outputs": [],
   "source": [
    "df = pd.get_dummies(df, columns=['release_month'])"
   ]
  },
  {
   "cell_type": "code",
   "execution_count": 249,
   "metadata": {},
   "outputs": [],
   "source": [
    "df_genre = pd.Series(df.genres).str.get_dummies(sep=',')\n",
    "df = pd.concat([df, df_genre], axis = 1) "
   ]
  },
  {
   "cell_type": "code",
   "execution_count": 250,
   "metadata": {},
   "outputs": [
    {
     "data": {
      "text/html": [
       "<div>\n",
       "<style scoped>\n",
       "    .dataframe tbody tr th:only-of-type {\n",
       "        vertical-align: middle;\n",
       "    }\n",
       "\n",
       "    .dataframe tbody tr th {\n",
       "        vertical-align: top;\n",
       "    }\n",
       "\n",
       "    .dataframe thead th {\n",
       "        text-align: right;\n",
       "    }\n",
       "</style>\n",
       "<table border=\"1\" class=\"dataframe\">\n",
       "  <thead>\n",
       "    <tr style=\"text-align: right;\">\n",
       "      <th></th>\n",
       "      <th>Action</th>\n",
       "      <th>Adventure</th>\n",
       "      <th>Animation</th>\n",
       "      <th>Comedy</th>\n",
       "      <th>Crime</th>\n",
       "      <th>Documentary</th>\n",
       "      <th>Drama</th>\n",
       "      <th>Family</th>\n",
       "      <th>Fantasy</th>\n",
       "      <th>Foreign</th>\n",
       "      <th>History</th>\n",
       "      <th>Horror</th>\n",
       "      <th>Music</th>\n",
       "      <th>Mystery</th>\n",
       "      <th>Romance</th>\n",
       "      <th>Science Fiction</th>\n",
       "      <th>TV Movie</th>\n",
       "      <th>Thriller</th>\n",
       "      <th>War</th>\n",
       "      <th>Western</th>\n",
       "    </tr>\n",
       "  </thead>\n",
       "  <tbody>\n",
       "    <tr>\n",
       "      <th>0</th>\n",
       "      <td>0</td>\n",
       "      <td>0</td>\n",
       "      <td>1</td>\n",
       "      <td>1</td>\n",
       "      <td>0</td>\n",
       "      <td>0</td>\n",
       "      <td>0</td>\n",
       "      <td>1</td>\n",
       "      <td>0</td>\n",
       "      <td>0</td>\n",
       "      <td>0</td>\n",
       "      <td>0</td>\n",
       "      <td>0</td>\n",
       "      <td>0</td>\n",
       "      <td>0</td>\n",
       "      <td>0</td>\n",
       "      <td>0</td>\n",
       "      <td>0</td>\n",
       "      <td>0</td>\n",
       "      <td>0</td>\n",
       "    </tr>\n",
       "    <tr>\n",
       "      <th>1</th>\n",
       "      <td>0</td>\n",
       "      <td>1</td>\n",
       "      <td>0</td>\n",
       "      <td>0</td>\n",
       "      <td>0</td>\n",
       "      <td>0</td>\n",
       "      <td>0</td>\n",
       "      <td>1</td>\n",
       "      <td>1</td>\n",
       "      <td>0</td>\n",
       "      <td>0</td>\n",
       "      <td>0</td>\n",
       "      <td>0</td>\n",
       "      <td>0</td>\n",
       "      <td>0</td>\n",
       "      <td>0</td>\n",
       "      <td>0</td>\n",
       "      <td>0</td>\n",
       "      <td>0</td>\n",
       "      <td>0</td>\n",
       "    </tr>\n",
       "    <tr>\n",
       "      <th>2</th>\n",
       "      <td>0</td>\n",
       "      <td>0</td>\n",
       "      <td>0</td>\n",
       "      <td>1</td>\n",
       "      <td>0</td>\n",
       "      <td>0</td>\n",
       "      <td>0</td>\n",
       "      <td>0</td>\n",
       "      <td>0</td>\n",
       "      <td>0</td>\n",
       "      <td>0</td>\n",
       "      <td>0</td>\n",
       "      <td>0</td>\n",
       "      <td>0</td>\n",
       "      <td>1</td>\n",
       "      <td>0</td>\n",
       "      <td>0</td>\n",
       "      <td>0</td>\n",
       "      <td>0</td>\n",
       "      <td>0</td>\n",
       "    </tr>\n",
       "    <tr>\n",
       "      <th>3</th>\n",
       "      <td>0</td>\n",
       "      <td>0</td>\n",
       "      <td>0</td>\n",
       "      <td>1</td>\n",
       "      <td>0</td>\n",
       "      <td>0</td>\n",
       "      <td>1</td>\n",
       "      <td>0</td>\n",
       "      <td>0</td>\n",
       "      <td>0</td>\n",
       "      <td>0</td>\n",
       "      <td>0</td>\n",
       "      <td>0</td>\n",
       "      <td>0</td>\n",
       "      <td>1</td>\n",
       "      <td>0</td>\n",
       "      <td>0</td>\n",
       "      <td>0</td>\n",
       "      <td>0</td>\n",
       "      <td>0</td>\n",
       "    </tr>\n",
       "    <tr>\n",
       "      <th>4</th>\n",
       "      <td>0</td>\n",
       "      <td>0</td>\n",
       "      <td>0</td>\n",
       "      <td>1</td>\n",
       "      <td>0</td>\n",
       "      <td>0</td>\n",
       "      <td>0</td>\n",
       "      <td>0</td>\n",
       "      <td>0</td>\n",
       "      <td>0</td>\n",
       "      <td>0</td>\n",
       "      <td>0</td>\n",
       "      <td>0</td>\n",
       "      <td>0</td>\n",
       "      <td>0</td>\n",
       "      <td>0</td>\n",
       "      <td>0</td>\n",
       "      <td>0</td>\n",
       "      <td>0</td>\n",
       "      <td>0</td>\n",
       "    </tr>\n",
       "  </tbody>\n",
       "</table>\n",
       "</div>"
      ],
      "text/plain": [
       "   Action  Adventure  Animation  Comedy  Crime  Documentary  Drama  Family  \\\n",
       "0       0          0          1       1      0            0      0       1   \n",
       "1       0          1          0       0      0            0      0       1   \n",
       "2       0          0          0       1      0            0      0       0   \n",
       "3       0          0          0       1      0            0      1       0   \n",
       "4       0          0          0       1      0            0      0       0   \n",
       "\n",
       "   Fantasy  Foreign  History  Horror  Music  Mystery  Romance  \\\n",
       "0        0        0        0       0      0        0        0   \n",
       "1        1        0        0       0      0        0        0   \n",
       "2        0        0        0       0      0        0        1   \n",
       "3        0        0        0       0      0        0        1   \n",
       "4        0        0        0       0      0        0        0   \n",
       "\n",
       "   Science Fiction  TV Movie  Thriller  War  Western  \n",
       "0                0         0         0    0        0  \n",
       "1                0         0         0    0        0  \n",
       "2                0         0         0    0        0  \n",
       "3                0         0         0    0        0  \n",
       "4                0         0         0    0        0  "
      ]
     },
     "execution_count": 250,
     "metadata": {},
     "output_type": "execute_result"
    }
   ],
   "source": [
    "df_genre.head()"
   ]
  },
  {
   "cell_type": "code",
   "execution_count": 252,
   "metadata": {},
   "outputs": [],
   "source": [
    "genre_size = []\n",
    "for i in df['genres']:\n",
    "    genre_size.append((len(i.split(','))))\n",
    "df = df.assign(nb_genre = genre_size)"
   ]
  },
  {
   "cell_type": "code",
   "execution_count": 253,
   "metadata": {},
   "outputs": [
    {
     "data": {
      "text/plain": [
       "0       1995-10-30\n",
       "1       1995-12-15\n",
       "2       1995-12-22\n",
       "3       1995-12-22\n",
       "4       1995-02-10\n",
       "           ...    \n",
       "45532   1991-05-13\n",
       "45534   2011-11-17\n",
       "45535   2003-08-01\n",
       "45536   1917-10-21\n",
       "45537   2017-06-09\n",
       "Name: release_date, Length: 45451, dtype: datetime64[ns]"
      ]
     },
     "execution_count": 253,
     "metadata": {},
     "output_type": "execute_result"
    }
   ],
   "source": [
    "df.pop('genres')\n",
    "df.pop('release_date')"
   ]
  },
  {
   "attachments": {},
   "cell_type": "markdown",
   "metadata": {},
   "source": [
    "### Budget"
   ]
  },
  {
   "attachments": {},
   "cell_type": "markdown",
   "metadata": {},
   "source": [
    "Un bugdet et un revenu égal à 0 n'a pas de sens. On peut essayer de remplacer les variables par une moyenne.\n",
    "Cette étapes aura nécessairement un inlfuence importante sur notre résultat. \n",
    "On peut pensé qu'un tel mecanisme peut conduire à influencer positivement l'influence du budget sur le revenu."
   ]
  },
  {
   "cell_type": "code",
   "execution_count": 254,
   "metadata": {},
   "outputs": [],
   "source": [
    "df['budget'] = df['budget'].replace(0, df['budget'].mean())\n",
    "df['revenue'] = df['revenue'].replace(0, df['revenue'].mean())\n",
    "# df.budget.isnull().sum()"
   ]
  },
  {
   "cell_type": "code",
   "execution_count": 255,
   "metadata": {},
   "outputs": [
    {
     "data": {
      "text/html": [
       "<div>\n",
       "<style scoped>\n",
       "    .dataframe tbody tr th:only-of-type {\n",
       "        vertical-align: middle;\n",
       "    }\n",
       "\n",
       "    .dataframe tbody tr th {\n",
       "        vertical-align: top;\n",
       "    }\n",
       "\n",
       "    .dataframe thead th {\n",
       "        text-align: right;\n",
       "    }\n",
       "</style>\n",
       "<table border=\"1\" class=\"dataframe\">\n",
       "  <thead>\n",
       "    <tr style=\"text-align: right;\">\n",
       "      <th></th>\n",
       "      <th>adult</th>\n",
       "      <th>budget</th>\n",
       "      <th>original_language</th>\n",
       "      <th>revenue</th>\n",
       "      <th>runtime</th>\n",
       "      <th>spoken_languages</th>\n",
       "      <th>nb_language</th>\n",
       "      <th>nb_ch</th>\n",
       "      <th>r_fem_ch</th>\n",
       "      <th>r_hom_ch</th>\n",
       "      <th>...</th>\n",
       "      <th>Horror</th>\n",
       "      <th>Music</th>\n",
       "      <th>Mystery</th>\n",
       "      <th>Romance</th>\n",
       "      <th>Science Fiction</th>\n",
       "      <th>TV Movie</th>\n",
       "      <th>Thriller</th>\n",
       "      <th>War</th>\n",
       "      <th>Western</th>\n",
       "      <th>nb_genre</th>\n",
       "    </tr>\n",
       "  </thead>\n",
       "  <tbody>\n",
       "    <tr>\n",
       "      <th>0</th>\n",
       "      <td>False</td>\n",
       "      <td>30000000</td>\n",
       "      <td>1</td>\n",
       "      <td>3.735540e+08</td>\n",
       "      <td>81.0</td>\n",
       "      <td>1</td>\n",
       "      <td>1</td>\n",
       "      <td>13</td>\n",
       "      <td>0.230769</td>\n",
       "      <td>0.692308</td>\n",
       "      <td>...</td>\n",
       "      <td>0</td>\n",
       "      <td>0</td>\n",
       "      <td>0</td>\n",
       "      <td>0</td>\n",
       "      <td>0</td>\n",
       "      <td>0</td>\n",
       "      <td>0</td>\n",
       "      <td>0</td>\n",
       "      <td>0</td>\n",
       "      <td>3</td>\n",
       "    </tr>\n",
       "    <tr>\n",
       "      <th>1</th>\n",
       "      <td>False</td>\n",
       "      <td>65000000</td>\n",
       "      <td>1</td>\n",
       "      <td>2.627972e+08</td>\n",
       "      <td>104.0</td>\n",
       "      <td>1</td>\n",
       "      <td>2</td>\n",
       "      <td>26</td>\n",
       "      <td>0.230769</td>\n",
       "      <td>0.346154</td>\n",
       "      <td>...</td>\n",
       "      <td>0</td>\n",
       "      <td>0</td>\n",
       "      <td>0</td>\n",
       "      <td>0</td>\n",
       "      <td>0</td>\n",
       "      <td>0</td>\n",
       "      <td>0</td>\n",
       "      <td>0</td>\n",
       "      <td>0</td>\n",
       "      <td>3</td>\n",
       "    </tr>\n",
       "    <tr>\n",
       "      <th>2</th>\n",
       "      <td>False</td>\n",
       "      <td>0</td>\n",
       "      <td>1</td>\n",
       "      <td>1.121930e+07</td>\n",
       "      <td>101.0</td>\n",
       "      <td>1</td>\n",
       "      <td>1</td>\n",
       "      <td>7</td>\n",
       "      <td>0.428571</td>\n",
       "      <td>0.571429</td>\n",
       "      <td>...</td>\n",
       "      <td>0</td>\n",
       "      <td>0</td>\n",
       "      <td>0</td>\n",
       "      <td>1</td>\n",
       "      <td>0</td>\n",
       "      <td>0</td>\n",
       "      <td>0</td>\n",
       "      <td>0</td>\n",
       "      <td>0</td>\n",
       "      <td>2</td>\n",
       "    </tr>\n",
       "    <tr>\n",
       "      <th>3</th>\n",
       "      <td>False</td>\n",
       "      <td>16000000</td>\n",
       "      <td>1</td>\n",
       "      <td>8.145216e+07</td>\n",
       "      <td>127.0</td>\n",
       "      <td>1</td>\n",
       "      <td>1</td>\n",
       "      <td>10</td>\n",
       "      <td>0.400000</td>\n",
       "      <td>0.600000</td>\n",
       "      <td>...</td>\n",
       "      <td>0</td>\n",
       "      <td>0</td>\n",
       "      <td>0</td>\n",
       "      <td>1</td>\n",
       "      <td>0</td>\n",
       "      <td>0</td>\n",
       "      <td>0</td>\n",
       "      <td>0</td>\n",
       "      <td>0</td>\n",
       "      <td>3</td>\n",
       "    </tr>\n",
       "    <tr>\n",
       "      <th>4</th>\n",
       "      <td>False</td>\n",
       "      <td>0</td>\n",
       "      <td>1</td>\n",
       "      <td>7.657891e+07</td>\n",
       "      <td>106.0</td>\n",
       "      <td>1</td>\n",
       "      <td>1</td>\n",
       "      <td>12</td>\n",
       "      <td>0.416667</td>\n",
       "      <td>0.500000</td>\n",
       "      <td>...</td>\n",
       "      <td>0</td>\n",
       "      <td>0</td>\n",
       "      <td>0</td>\n",
       "      <td>0</td>\n",
       "      <td>0</td>\n",
       "      <td>0</td>\n",
       "      <td>0</td>\n",
       "      <td>0</td>\n",
       "      <td>0</td>\n",
       "      <td>1</td>\n",
       "    </tr>\n",
       "  </tbody>\n",
       "</table>\n",
       "<p>5 rows × 48 columns</p>\n",
       "</div>"
      ],
      "text/plain": [
       "   adult    budget  original_language       revenue  runtime  \\\n",
       "0  False  30000000                  1  3.735540e+08     81.0   \n",
       "1  False  65000000                  1  2.627972e+08    104.0   \n",
       "2  False         0                  1  1.121930e+07    101.0   \n",
       "3  False  16000000                  1  8.145216e+07    127.0   \n",
       "4  False         0                  1  7.657891e+07    106.0   \n",
       "\n",
       "   spoken_languages  nb_language  nb_ch  r_fem_ch  r_hom_ch  ...  Horror  \\\n",
       "0                 1            1     13  0.230769  0.692308  ...       0   \n",
       "1                 1            2     26  0.230769  0.346154  ...       0   \n",
       "2                 1            1      7  0.428571  0.571429  ...       0   \n",
       "3                 1            1     10  0.400000  0.600000  ...       0   \n",
       "4                 1            1     12  0.416667  0.500000  ...       0   \n",
       "\n",
       "   Music  Mystery  Romance  Science Fiction  TV Movie  Thriller  War  Western  \\\n",
       "0      0        0        0                0         0         0    0        0   \n",
       "1      0        0        0                0         0         0    0        0   \n",
       "2      0        0        1                0         0         0    0        0   \n",
       "3      0        0        1                0         0         0    0        0   \n",
       "4      0        0        0                0         0         0    0        0   \n",
       "\n",
       "   nb_genre  \n",
       "0         3  \n",
       "1         3  \n",
       "2         2  \n",
       "3         3  \n",
       "4         1  \n",
       "\n",
       "[5 rows x 48 columns]"
      ]
     },
     "execution_count": 255,
     "metadata": {},
     "output_type": "execute_result"
    }
   ],
   "source": [
    "df.head()"
   ]
  },
  {
   "cell_type": "code",
   "execution_count": 256,
   "metadata": {},
   "outputs": [],
   "source": [
    "df.to_csv('./data/diversity.csv', index=False)"
   ]
  }
 ],
 "metadata": {
  "kernelspec": {
   "display_name": "base",
   "language": "python",
   "name": "python3"
  },
  "language_info": {
   "codemirror_mode": {
    "name": "ipython",
    "version": 3
   },
   "file_extension": ".py",
   "mimetype": "text/x-python",
   "name": "python",
   "nbconvert_exporter": "python",
   "pygments_lexer": "ipython3",
   "version": "3.9.12"
  },
  "orig_nbformat": 4,
  "vscode": {
   "interpreter": {
    "hash": "bc5a6fcd42aefd11aead72b01bc4e6842c205ebb69c94514e1be95f4dbf05863"
   }
  }
 },
 "nbformat": 4,
 "nbformat_minor": 2
}
